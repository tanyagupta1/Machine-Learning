{
  "nbformat": 4,
  "nbformat_minor": 0,
  "metadata": {
    "colab": {
      "name": "MH_data_script.ipynb",
      "provenance": [],
      "include_colab_link": true
    },
    "kernelspec": {
      "name": "python3",
      "display_name": "Python 3"
    }
  },
  "cells": [
    {
      "cell_type": "markdown",
      "metadata": {
        "id": "view-in-github",
        "colab_type": "text"
      },
      "source": [
        "<a href=\"https://colab.research.google.com/github/tanyagupta1/Machine-Learning/blob/main/BTP/MH_data_script.ipynb\" target=\"_parent\"><img src=\"https://colab.research.google.com/assets/colab-badge.svg\" alt=\"Open In Colab\"/></a>"
      ]
    },
    {
      "cell_type": "markdown",
      "metadata": {
        "id": "j-QQANye3ecE"
      },
      "source": [
        "# Using Pushshift Module to extract Submissions Data from Reddit via Python\n",
        "\n",
        "PRAW is pretty good at gettin reddit data but there are some limitations with it.\n",
        "Including the removal of the [subreddit.submissions endpoint](https://www.reddit.com/r/changelog/comments/7tus5f/update_to_search_api/.). \n",
        "\n",
        "So for extracting Reddit submissions and the primarily data such as upvotes and comments count, I put together this notebook using Pushshift.\n",
        "\n",
        "If you still prefer PRAW for extract submissions, I have written a code [template here](https://github.com/SeyiAgboola/Seyi_Projects/blob/master/submission_list.py).\n",
        "\n",
        "I will also [host the code on GitHub](https://github.com/SeyiAgboola/Reddit-Data-Mining/blob/master/Using_Pushshift_Module_to_extract_Submissions.ipynb).\n",
        "\n",
        "More info on the removal of the [subreddit.submissions endpoint](https://www.reddit.com/r/redditdev/comments/8bia9n/praw_psa_the_subredditsubmissions_method_no/)."
      ]
    },
    {
      "cell_type": "markdown",
      "metadata": {
        "id": "GyarnetivJPG"
      },
      "source": [
        "# Import modules"
      ]
    },
    {
      "cell_type": "code",
      "metadata": {
        "id": "VfmIce345UaB"
      },
      "source": [
        "import pandas as pd\n",
        "import requests #Pushshift accesses Reddit via an url so this is needed\n",
        "import json #JSON manipulation\n",
        "import csv #To Convert final table into a csv file to save to your machine\n",
        "import time\n",
        "import datetime"
      ],
      "execution_count": 59,
      "outputs": []
    },
    {
      "cell_type": "code",
      "metadata": {
        "id": "mDma-H_k0frf"
      },
      "source": [
        "#Adapted from this https://gist.github.com/dylankilkenny/3dbf6123527260165f8c5c3bc3ee331b\n",
        "#This function builds an Pushshift URL, accesses the webpage and stores JSON data in a nested list\n",
        "def getPushshiftData(after, before, sub):\n",
        "    #Build URL\n",
        "    url = 'https://api.pushshift.io/reddit/search/submission/?size=10&after='+str(after)+'&before='+str(before)+'&subreddit='+str(sub)\n",
        "    #Print URL to show user\n",
        "    print(url)\n",
        "    #Request URL\n",
        "    r = requests.get(url)\n",
        "    #Load JSON data from webpage into data variable\n",
        "    data = json.loads(r.text)\n",
        "    #return the data element which contains all the submissions data\n",
        "    return data['data']\n",
        "\n",
        "def getPushshiftData_comments(sub_id):\n",
        "    #Build URL\n",
        "    url = 'https://api.pushshift.io/reddit/search/comment/?link_id=t3_'+str(sub_id)\n",
        "    #Print URL to show user\n",
        "    print(url)\n",
        "    #Request URL\n",
        "    r = requests.get(url)\n",
        "    #Load JSON data from webpage into data variable\n",
        "    data = json.loads(r.text)\n",
        "    #return the data element which contains all the submissions data\n",
        "    return data['data']"
      ],
      "execution_count": 62,
      "outputs": []
    },
    {
      "cell_type": "markdown",
      "metadata": {
        "id": "H524E6kkvh1O"
      },
      "source": [
        "# Extract key information from Submissions\n",
        "* Submission Title\n",
        "* Body of Post \n",
        "* Author\n",
        "* Submission post ID\n",
        "* Score\n",
        "* Awards\n",
        "* Upload Time\n",
        "* No. of Comments \n",
        "\n",
        "# Extract key information from Comments\n",
        "* body,\n",
        "* author\n",
        "* is_op\n",
        "* date created\n",
        "* score\n",
        "* no of awards\n",
        "\n"
      ]
    },
    {
      "cell_type": "code",
      "metadata": {
        "id": "N6qX7glQ1-nl"
      },
      "source": [
        "#This function will be used to extract the key data points from each JSON result\n",
        "def collectSubData(subm):\n",
        "    subData = list() \n",
        "    title = subm['title']\n",
        "    body = subm['selftext']\n",
        "    # #flairs are not always present so we wrap in try/except\n",
        "    # try:\n",
        "    #     flair = subm['link_flair_text']\n",
        "    # except KeyError:\n",
        "    #     flair = \"NaN\"    \n",
        "    author = subm['author']\n",
        "    sub_id = subm['id']\n",
        "    score = subm['score']\n",
        "    awards = subm['total_awards_received']\n",
        "    created = datetime.datetime.fromtimestamp(subm['created_utc']) #1520561700.0\n",
        "    numComms = subm['num_comments']\n",
        "    subData.append((sub_id,title,body,author,score,awards,numComms,created))\n",
        "    subStats[sub_id] = subData\n",
        "\n",
        "def collectComments(subm):\n",
        "    data = getPushshiftData_comments(subm)\n",
        "    comments[subm]=list()\n",
        "    for comment in data:\n",
        "      author=comment['author']\n",
        "      body=comment['body']\n",
        "      created = datetime.datetime.fromtimestamp(comment['created_utc'])\n",
        "      is_op=comment['is_submitter']\n",
        "      score=comment['score']\n",
        "      awards=comment['total_awards_received']\n",
        "      comments[subm].append((body,author,is_op,created,score,awards))"
      ],
      "execution_count": 63,
      "outputs": []
    },
    {
      "cell_type": "markdown",
      "metadata": {
        "id": "vCDRrn9nwRsj"
      },
      "source": [
        "# Update your Search Settings here"
      ]
    },
    {
      "cell_type": "code",
      "metadata": {
        "id": "V0fNU7eS2mwT"
      },
      "source": [
        "#Create your timestamps and queries for your search URL\n",
        "#https://www.unixtimestamp.com/index.php > Use this to create your timestamps\n",
        "after = \"1577817000\" #Submissions after this timestamp (1577836800 = 01 Jan 20)\n",
        "before = \"1580322600\" #Submissions before this timestamp (1607040000 = 04 Dec 20)\n",
        "sub = \"ptsd\" #Which Subreddit to search in\n",
        "#subCount tracks the no. of total submissions we collect\n",
        "subCount = 0\n",
        "#subStats is the dictionary where we will store our data.\n",
        "subStats = {}\n",
        "comments={}"
      ],
      "execution_count": 66,
      "outputs": []
    },
    {
      "cell_type": "code",
      "metadata": {
        "id": "6wP_j8pp2-M8",
        "colab": {
          "base_uri": "https://localhost:8080/"
        },
        "outputId": "b0ad93d4-b6ed-4387-802d-5f9f3aa061d7"
      },
      "source": [
        "# We need to run this function outside the loop first to get the updated after variable\n",
        "data = getPushshiftData(after, before, sub)\n",
        "# Will run until all posts have been gathered i.e. When the length of data variable = 0\n",
        "# from the 'after' date up until before date\n",
        "while len(data) > 0: #The length of data is the number submissions (data[0], data[1] etc), once it hits zero (after and before vars are the same) end\n",
        "    if(subCount>=10):\n",
        "      break;\n",
        "    for submission in data:\n",
        "        collectSubData(submission)\n",
        "        collectComments(submission['id'])\n",
        "        subCount+=1\n",
        "    # Calls getPushshiftData() with the created date of the last submission\n",
        "    print(len(data))\n",
        "    print(str(datetime.datetime.fromtimestamp(data[-1]['created_utc'])))\n",
        "    #update after variable to last created date of submission\n",
        "    after = data[-1]['created_utc']\n",
        "    #data has changed due to the new after variable provided by above code\n",
        "    data = getPushshiftData(after, before, sub)\n",
        "    \n",
        "print(len(data))"
      ],
      "execution_count": 67,
      "outputs": [
        {
          "output_type": "stream",
          "name": "stdout",
          "text": [
            "https://api.pushshift.io/reddit/search/submission/?size=10&after=1577817000&before=1580322600&subreddit=ptsd\n",
            "https://api.pushshift.io/reddit/search/comment/?link_id=t3_ei84a7\n",
            "https://api.pushshift.io/reddit/search/comment/?link_id=t3_ei8r5h\n",
            "https://api.pushshift.io/reddit/search/comment/?link_id=t3_ei95yg\n",
            "https://api.pushshift.io/reddit/search/comment/?link_id=t3_ei9ela\n",
            "https://api.pushshift.io/reddit/search/comment/?link_id=t3_ei9f9p\n",
            "https://api.pushshift.io/reddit/search/comment/?link_id=t3_ei9l8w\n",
            "https://api.pushshift.io/reddit/search/comment/?link_id=t3_ei9za5\n",
            "https://api.pushshift.io/reddit/search/comment/?link_id=t3_eia3x2\n",
            "https://api.pushshift.io/reddit/search/comment/?link_id=t3_eia9b8\n",
            "https://api.pushshift.io/reddit/search/comment/?link_id=t3_eibybn\n",
            "10\n",
            "2020-01-01 01:18:17\n",
            "https://api.pushshift.io/reddit/search/submission/?size=10&after=1577841497&before=1580322600&subreddit=ptsd\n",
            "10\n"
          ]
        }
      ]
    },
    {
      "cell_type": "markdown",
      "metadata": {
        "id": "OaeTGu7mwyoU"
      },
      "source": [
        "# Check your Submission Extraction was successful"
      ]
    },
    {
      "cell_type": "code",
      "metadata": {
        "id": "uVLuSJ8e8p7i",
        "colab": {
          "base_uri": "https://localhost:8080/"
        },
        "outputId": "81b5bbf4-7797-425d-c6b1-a0f23facf886"
      },
      "source": [
        "# print(str(len(subStats)) + \" submissions have added to list\")\n",
        "# print(\"1st entry is:\")\n",
        "# print(list(subStats.values())[0][0][1] + \" created: \" + str(list(subStats.values())[0][0][5]))\n",
        "# print(\"Last entry is:\")\n",
        "# print(list(subStats.values())[-1][0][1] + \" created: \" + str(list(subStats.values())[-1][0][5]))"
      ],
      "execution_count": 68,
      "outputs": [
        {
          "output_type": "stream",
          "name": "stdout",
          "text": [
            "10 submissions have added to list\n",
            "1st entry is:\n",
            "Ending the year by myself. created: 0\n",
            "Last entry is:\n",
            "Why I can't stand the thought that tonight is the beginning to another year. created: 0\n"
          ]
        }
      ]
    },
    {
      "cell_type": "markdown",
      "metadata": {
        "id": "BAm_zZZfw521"
      },
      "source": [
        "# Save data to CSV file"
      ]
    },
    {
      "cell_type": "code",
      "metadata": {
        "id": "MBikywNJ8ufl",
        "colab": {
          "base_uri": "https://localhost:8080/"
        },
        "outputId": "5655bab5-dfe2-46de-edc9-56eb0bbb78c9"
      },
      "source": [
        "def updateSubs_file():\n",
        "    upload_count = 0\n",
        "    #location = \"\\\\Reddit Data\\\\\" >> If you're running this outside of a notebook you'll need this to direct to a specific location\n",
        "    print(\"input filename of submission file, please add .csv\")\n",
        "    filename = input() #This asks the user what to name the file\n",
        "    file = filename\n",
        "    with open(file, 'w', newline='', encoding='utf-8') as file: \n",
        "        a = csv.writer(file, delimiter=',')\n",
        "        headers = ['sub_id','title','body','author','score','awards','numComms','created']\n",
        "        a.writerow(headers)\n",
        "        for sub in subStats:\n",
        "            a.writerow(subStats[sub][0])\n",
        "            upload_count+=1\n",
        "            \n",
        "        print(str(upload_count) + \" submissions have been uploaded\")\n",
        "updateSubs_file()"
      ],
      "execution_count": 69,
      "outputs": [
        {
          "output_type": "stream",
          "name": "stdout",
          "text": [
            "input filename of submission file, please add .csv\n",
            "ptsd_posts.csv\n",
            "10 submissions have been uploaded\n"
          ]
        }
      ]
    },
    {
      "cell_type": "code",
      "metadata": {
        "colab": {
          "base_uri": "https://localhost:8080/"
        },
        "id": "HthTXY5Dam7G",
        "outputId": "f9517a3c-38f5-4821-fba2-b6a993d4346f"
      },
      "source": [
        "def updateSubs_file_comm():\n",
        "    upload_count = 0\n",
        "    #location = \"\\\\Reddit Data\\\\\" >> If you're running this outside of a notebook you'll need this to direct to a specific location\n",
        "    print(\"input filename of comments file, please add .csv\")\n",
        "    filename = input() #This asks the user what to name the file\n",
        "    file = filename\n",
        "    with open(file, 'w', newline='', encoding='utf-8') as file: \n",
        "        fieldnames = ['post_id','body','author','is_op','created','score','awards']\n",
        "        writer = csv.writer(file)\n",
        "        writer.writerow(fieldnames)\n",
        "        for post in comments:\n",
        "          for com in comments[post]:\n",
        "            tmp=list()\n",
        "            tmp.append(post)\n",
        "            tmp.extend(com)\n",
        "            # print(tmp)\n",
        "            writer.writerow(tmp)\n",
        "            upload_count+=1\n",
        "            \n",
        "        print(str(upload_count) + \" comments have been uploaded\")\n",
        "updateSubs_file_comm()"
      ],
      "execution_count": 70,
      "outputs": [
        {
          "output_type": "stream",
          "name": "stdout",
          "text": [
            "input filename of comments file, please add .csv\n",
            "ptsd_comments.csv\n",
            "59 comments have been uploaded\n"
          ]
        }
      ]
    },
    {
      "cell_type": "code",
      "metadata": {
        "colab": {
          "base_uri": "https://localhost:8080/"
        },
        "id": "qhNa2v3lbZUT",
        "outputId": "0b669bcc-2e99-45c5-90bf-f203e118a637"
      },
      "source": [
        "print(subStats)\n",
        "print(comments)"
      ],
      "execution_count": 38,
      "outputs": [
        {
          "output_type": "stream",
          "name": "stdout",
          "text": [
            "{'ei84a7': [('ei84a7', 'Ending the year by myself.', 'https://www.reddit.com/r/ptsd/comments/ei84a7/ending_the_year_by_myself/', 'Fatsohuggingbear', 1, datetime.datetime(2019, 12, 31, 20, 9, 51), 3, '/r/ptsd/comments/ei84a7/ending_the_year_by_myself/', 'NaN')], 'ei8r5h': [('ei8r5h', 'How to deal with PTSD at the workplace', 'https://www.reddit.com/r/ptsd/comments/ei8r5h/how_to_deal_with_ptsd_at_the_workplace/', '_Aud1out_', 1, datetime.datetime(2019, 12, 31, 20, 59, 18), 10, '/r/ptsd/comments/ei8r5h/how_to_deal_with_ptsd_at_the_workplace/', 'NaN')], 'ei95yg': [('ei95yg', 'The trauma and me the bully?', 'https://www.reddit.com/r/ptsd/comments/ei95yg/the_trauma_and_me_the_bully/', 'Acrobatic-Comparison', 1, datetime.datetime(2019, 12, 31, 21, 32, 7), 2, '/r/ptsd/comments/ei95yg/the_trauma_and_me_the_bully/', 'NaN')], 'ei9ela': [('ei9ela', 'New Years makes me feel terrible. I feel like I’ve only gone backwards. (Trigger Warning: Venting)', 'https://www.reddit.com/r/ptsd/comments/ei9ela/new_years_makes_me_feel_terrible_i_feel_like_ive/', 'throwaway0706199', 1, datetime.datetime(2019, 12, 31, 21, 51, 26), 2, '/r/ptsd/comments/ei9ela/new_years_makes_me_feel_terrible_i_feel_like_ive/', 'NaN')], 'ei9f9p': [('ei9f9p', 'Is it unreasonable to ask my husband to listen to a recording of him berating me?', 'https://www.reddit.com/r/ptsd/comments/ei9f9p/is_it_unreasonable_to_ask_my_husband_to_listen_to/', 'Throwaway12312019a', 1, datetime.datetime(2019, 12, 31, 21, 53, 1), 5, '/r/ptsd/comments/ei9f9p/is_it_unreasonable_to_ask_my_husband_to_listen_to/', 'NaN')], 'ei9l8w': [('ei9l8w', 'Am I being manipulated', 'https://www.reddit.com/r/ptsd/comments/ei9l8w/am_i_being_manipulated/', 'suriservshumnty', 1, datetime.datetime(2019, 12, 31, 22, 6, 23), 0, '/r/ptsd/comments/ei9l8w/am_i_being_manipulated/', 'NaN')], 'ei9za5': [('ei9za5', 'Do the intrusive thoughts / feelings / memories ever go away completely?', 'https://www.reddit.com/r/ptsd/comments/ei9za5/do_the_intrusive_thoughts_feelings_memories_ever/', 'MasterJess-Ca', 1, datetime.datetime(2019, 12, 31, 22, 37, 47), 1, '/r/ptsd/comments/ei9za5/do_the_intrusive_thoughts_feelings_memories_ever/', 'NaN')], 'eia3x2': [('eia3x2', 'Please be considerate of others with fire works this year', 'https://www.reddit.com/r/ptsd/comments/eia3x2/please_be_considerate_of_others_with_fire_works/', 'Starfire911', 1, datetime.datetime(2019, 12, 31, 22, 48, 15), 22, '/r/ptsd/comments/eia3x2/please_be_considerate_of_others_with_fire_works/', 'NaN')], 'eia9b8': [('eia9b8', 'My birthday', 'https://www.reddit.com/r/ptsd/comments/eia9b8/my_birthday/', 'hamilthrowaway', 1, datetime.datetime(2019, 12, 31, 23, 0, 29), 4, '/r/ptsd/comments/eia9b8/my_birthday/', 'NaN')], 'eibybn': [('eibybn', \"Why I can't stand the thought that tonight is the beginning to another year.\", 'https://www.reddit.com/r/ptsd/comments/eibybn/why_i_cant_stand_the_thought_that_tonight_is_the/', 'DDkilo311', 1, datetime.datetime(2020, 1, 1, 1, 18, 17), 10, '/r/ptsd/comments/eibybn/why_i_cant_stand_the_thought_that_tonight_is_the/', 'NaN')]}\n",
            "{'ei84a7': [('fcoz0y1', 'Happy new year.  Everything gets better in January.  I hope you get some good rest before morning.'), ('fcoq6la', \"Love yourself! Don't keep self-love away from you. It is there, inside! Find it, feel it and live it! Don't judge your life! Trust your life! You are doing the best that you can!  Allow yourself to feel joy about it instead of judging yourself. So, have have a great 2020!  🌟\"), ('fcok30g', \"Happy new year.\\n\\nPTSD forces us to get stronger to survive, and if you're getting stronger, that makes next year better than this one. I wish you luck in 2020.\")], 'ei8r5h': [('fct3ta4', 'Thank you c: \\n\\nTake this &lt;3'), ('fct3r23', 'Ah I see. I’m sorry :( I totally understand wanting to talk about it with friends and being afraid of being a downer. I feel like as long as you have learned from your experience you have nothing to be ashamed about.\\n\\nI kept the conversation of me having ptsd very short, vague, and to the point. Just to make them aware that I am trying my best and I’m working through something.'), ('fct2dq6', \"Yeah, I'm probably saying it a bit more harshly because it hurt, but it is what it is. I think as long as you feel like things are ok with your co-workers, no need to hide the fact that you have PTSD. \\n\\nI just think it's a delicate subject when it comes to sharing the details. I kind of had a tendency to ruin D&amp;D nights with my problems, like getting drunk and crying. And no one enjoys that. Plus some people aren't equipped, or they might be dealing with their own stuff. Idk. Maybe I thought they were more of a friend then they really were... but now that I think back I just feel ashamed for talking about it too much.\"), ('fcstf19', 'I noticed one of these... :( \\n\\n\\n\\n So here take this... :D'), ('fcstexp', 'I just told a coworker that I’m dealing with ptsd and left it at that. I hope this doesn’t backfire but it felt right at the time. I haven’t cried at work just sometimes I get incredibly anxious and make little mistakes over and over. But I quit my last job in tears because it was way too stressful :( \\n\\nI hope things get better for you. This stuff is hard'), ('fcst3my', 'Everything is much harder'), ('fcst2xx', 'Oh I’m sorry it ended up this way :( I actually told a coworker friend that I was dealing with ptsd today. It went really well. He thanked me for sharing and said he enjoyed working with me. I am not going to tell any others because I don’t want to make a big deal of it. I hope this doesn’t backfire but oh well.'), ('fcpp2zn', \"I opened up about my stuff with some co-workers who I thought were also friends, just the general diagnosis info. At first they seemed to accept me.\\n\\n But as I have frequent flare ups and replapses with the symptoms I took advantage of FMLA and took more time off. \\n\\nThis seemed to frustrate/disappoint them, so I tried to be even more open about the specifics, such as what caused the trauma and I also tried to be more honest about my current feelings in attempts to reach out for support. \\n\\nIt didn't end well. So called friends think I am just a passive-aggressive POS fishing for a pity party. Thus, my advice; I wouldn't trust your co-workers mich more than you can throw them. Some people will act like they care, but in reality they only care so much. Some people will just be unwilling to have empathy. Get a dog or a cat; better than most people. Also continue therapy, and look after yourself, fuck what other people might think. At the end of the day we only have ourselves.\"), ('fcpd349', 'I understand what you mean. Life is not the same'), ('fcpatwv', \"I'd also love advice on this if anyone has any. I've cried at work and ended up opening up a bit about the traumas I experienced. Now I feel like I'm being pityed or ignored.\")], 'ei95yg': [('fcop8zn', \"That's the hellscape/blessing of the internet--anyone can hide behind a fake name and profile picture. Sometimes we use this to listen and help each other and build each other up. Sometimes that absolute shitshow that life can be drives us to be angry hide behind the mask of anonymity in an attempt to vent our frustrations.\\n\\nReading this post, you don't seem like a bully. The very fact that you're worried that you might be a bully convinces me you're not one. Bullies are cruel and revel in the pain they dredge up from others; anyone who feels guilt about that doesn't seem to be the bully type.\\n\\nI hope you do well this Christmas Eve\"), ('fcodomi', 'You can ask your employer to use a pseudonym, or a combo of first and middle name as your name in published things.')], 'ei9ela': [('fcooofg', \"It's always funny/strangerhow a day can feel so pressured somehow...  anyways, I do wish you the best for 2020! 💜 Let this be love-yourself year!\"), ('fcokwye', \"Yeah.. this year sucked. Alot. 2018 and 2019 were really hard years for me. Is it bad that I'm not looking forward to 2020\")], 'ei9f9p': [('fcostsg', 'Sometimes things just happen, because other people lack empathy or lack impulse control or make terrible choices.'), ('fcoff4t', 'I wish I felt stronger. Sometimes I do. Sometimes I think - “I can’t believe I’ve been through so much.”  My doctor even says the same thing. \\n\\nBut today, I feel weak and helpless. Like I let these things happen to me, so it’s all my fault. \\n\\nI know that’s not true deep inside but I can’t help my brain from going there lately. \\n\\nThank you for responding and your kind words. &lt;3'), ('fcof14m', 'It is understandable that you feel scared and lost right now. You have been through so much. You are such a resilient person.'), ('fcoelve', 'We both see therapists and are on a waiting list for a separate therapist that works with married couples. \\n\\nMy therapist was the one who helped me realize he was part of my trauma, even though it was just that one incident. \\n\\nI didn’t ask her about the recording. I see her a week from today so I will ask her.\\n\\nI have brought up a separation and he doesn’t want one. He says he would also refuse to sign divorce papers if I filed. \\n\\nHe has some impulse control issues that he’s working on in therapy - he says something and immediately realizes he shouldn’t have said it (whereas before he wouldn’t even apologize).\\n\\nHowever, I am 99.9% sure he’s not telling his therapist everything because he doesn’t want to sound like an asshole. \\n\\nI love him. But I’m in a deep, deep depression (not even able to work) trying to work on my PTSD so I’m pretty distant right now. \\n\\nHe has stood by me through the very very lowest of lows. \\n\\nI do love him. I just don’t know how I can move forward if he doesn’t take responsibility for the past. I initially thought I’d moved past it. \\n\\nBut I know now I repressed most of my trauma until the last few months. \\n\\nI feel scared and lost.'), ('fcodk1g', 'Are you working with a therapist right now? I think the big picture question is what is his behavior like, right now, in 2019-2020? I would talk with your therapist and if you need to, have a temporary separation to make a decision.')], 'ei9l8w': [], 'ei9za5': [('fcpemc3', \"It's been 30 years for me and honestly I doubt it'll ever completely stop. I go through periods where it slows or is more intense. The important thing is learning what coping skills work for you to get you past the days full of memories.\")], 'eia3x2': [('fcqsdc8', 'It was crazy here in Hamburg and despite 21 dB earplugs and 34 dB earmuffs, it was loud. I have to wonder how that is for people who lived through the war and the firebombing of the city...'), ('fcqlp2r', 'if you can afford it, invest in some noise-cancelling headphones for times like this.'), ('fcqhjge', \"I don't hold much  faith in a post like this when you can actively mention the like to real live people and have them fuck with you anyhow just to see your reaction.  \\n\\n\\nPro tip guys and gals: Make that reaction one they don't ever want to see again and it's problem solved.\"), ('fcq5vb3', \"I hope you're okay..fireworks really scare me too..I remember when my family used to light them and really big ones and tell me to get really close to it..I was so scared..and I tried to run back in the house but they wanted me to watch and I just..I guess had a good time..but my feelings inside weren't nice. This was before they knew I had trauma and the severity of anxiety\"), ('fcq5qhf', 'I thought I heard a firework last night and I got scared..but I went back to sleep after..'), ('fcq1fa5', \"Don't worry, you're not alone.\"), ('fcq06hy', \"I woke up at 12 when they went off in my city, haven't been able to sleep since.\"), ('fcpozmz', \"My family had the popper gun things and mine didnt go off cause I didnt press hard enough cause I was really scared of the noise...but somehow I got it to work but it kinda scared me..but I'm ok and that's all that matters. I picked a pretty good cake tho. I got hit in the face with my hacky sack a lot and overall was a good start to the new year. Hope y'all are coping ok\"), ('fcpn6qk', 'Luckily it rained here and nobody lit anything off. I hate fireworks, they scare the shit out of me.'), ('fcpfzei', '\"crying because people are having fun and celebrating and you aren\\'t is selfish\"\\n\\n&amp;#x200B;\\n\\nOP said please consider? Thats not having a cry. It might have meant if your neighbour has ptsd check on them or something.\\n\\n&amp;#x200B;\\n\\nChill here mate, its a support sub.'), ('fcpbn2i', 'We’re not saying “BAN FIREWORKS FOR EVERYBODY EVERYWHERE!” \\nBut rather- be safe, considerate and smart with them. Setting fireworks off next to homes, apartments, dry open fields, are all not smart ideas. \\nAnd “don’t tell other people to adjust their lives”? Bro you literally told us to “take measures to avoid it.” You’re saying I can’t have fun with my friends in my apartment and watch the ball drop without being severely triggered because I was a victim of something most people will never be able to understand?\\nBullshit.'), ('fcp9ypf', 'I had on my headphones listening to white noise earlier and they died so now I’m just hearing fireworks.'), ('fcp9vka', 'I was just coming here to post something about this.'), ('fcp9alp', 'My neighbors are literally setting of fireworks in a protected field right now. We literally just dealt with bad wildfires a few months ago.'), ('fcp96uq', 'Fireworks are bad for the environment, are the cause of a lot of people to lose their pets every year, and are illegal in some areas where people still put them off. People are allowed to complain about it just like how you can show your ignorance and selfishness to complain about us complaining in a PTSD thread.'), ('fcp7ahc', 'Tell that to my neighbors, their poping them off one scared me so bad I fell out of chair, and their screaming and shit, their probably drunk, inconsiderate assholes.'), ('fcp771s', 'Fireworks are terrible for the environment and the people that still light them are neanderthals.'), ('fcozqgp', 'What?'), ('fcozf7r', 'What I mean is if you do them, please don’t light that many I know people these days don’t care'), ('fcozcpe', \"I'm not lighting any. If I were, is there a more considerate way to do so?\\n\\nAll at once instead of staggering them out?\"), ('fcosb2m', \"I actually have a white noise machine and it's done wonders for me. Sudden noises and repetitive noises affect me so having white noise to drown most of it out has been fantastic. If you dont use white noise, definitely start. It's the most useful tool\"), ('fcoij0s', 'Good luck, friend. You might like [this white noise website](https://mynoise.net/NoiseMachines/whiteNoiseGenerator.php?l=6181968370614839312300&amp;m=&amp;d=0), I use it to mask the outside world.')], 'eia9b8': [('fcub1za', 'Healing isn\\'t linear. You\\'re going to have ups and downs, good days and hard days. It\\'s really important to be kind to yourself during the process.\\n\\nI\\'m sorry that these two anniversaries happen around your birthday. As for celebrating your birthday, just do what feels most comfortable for you. If you feel like celebrating, do it, but if not, there\\'s always next year. You could even celebrate a week or so after, once the anniversaries have passed.\\n\\nMy birthday falls close to the anniversary of my traumatic event too, and each year since I\\'ve kept my birthday low-key because I wasn\\'t in the right headspace to plan and attend a party. In the beginning, I would be really hard on myself about \"letting\" this traumatic event ruin my birthday, but I\\'m trying not to do that because it just makes it harder and doesn\\'t help me feel any better.\\n\\nAlso, happy birthday!! Try and do something nice for yourself if you can :)'), ('fcpa4te', 'I don’t think there is a timeline for healing. What happened hurt. You’re allowed to be hurt.\\n\\nI hear you. I wish you a happy birthday. Or an okay birthday, at least.'), ('fcopgbn', \"First of all, Happy Birthday! 💜 I understand that it's not easy. You are young and better days will arrive! They have to! Focus on self-love and to love yourself! Don't let the pain take over. You are worth more than what was taken from you! I wish you the best for 2020!\"), ('fcolw7n', \"He is worthless sh*t! You don'tdeserve this pain! You are 20 years old and have sooo many better days to look forward to! Please, just love yourself and move forward! I know it doesn't mean coming from a stranger but trust that you are worth more than what has ever been tKen from you! 🌟 So, happy birthday, let yourself shine!\")], 'eibybn': [('fcwiawf', \"Wow. You've been thru the ringer. I know exactly what you are saying though. You've got this figurative calendar in front of you and there are 365 days on it that you stare at and are terrified of what each and every one of those days is going to be like. Because if they were anything like the past 365 days I really could do without it. The past 3 years of my life I've considered the worst and so far this one has already had the makings of its predecessors. I'm dreading the future. I have PTSD/Anxiety/Depression/Dysthymia and they are all just one huge shitshow that never stops shitshowing. \\nI absolutely hate the holidays!\"), ('fcsr2or', \"Hang in there. My boyfriend has PTSD from Iraq and Afghanistan. He's 10 years out from when he returned and started treatment. He still has his good and bad days, as in no motivation, desire, enjoyment in anything. But then he has great days too. Keep thinking of those good days that have yet to come! \\n\\nAnd you are really impressive. You survived deployment and cancer already. Keep to your plan, I hope 2020 is your year.\"), ('fcrg91f', \"I'm sorry that VA isn't helpful to you. That really frustrates me. They're supposed to be there to listen and help :(\\n\\nSomething about your cycle clearly isn't working, because you keep ending up feeling like crap. Do all of those things that make you feel good and productive, yeah. But I encourage you to also look critically at your day to day life &amp; try and figure out what needs to change. \\n\\nI'm wishing you all the best\"), ('fcranx8', 'I really appreciate it, I found some motivation on New Years Eve to start getting things right again and try to find success again. I\\'m a little worried though because the only healthcare I have is the VA and they have me in \"cognitive psychotherapy\". They ask me every 2 weeks if I still feel suicidal so they can \"check their box\" that they \"helped a veteran\" but the therapy always turns into this very condescending thing where they try to say, \"you just have to learn to cope because your emotion-&gt;anxiety-&gt;problem-&gt;repeat and I\\'m like I\\'d really rather hear an actual coping mechanism than a definition of the problem. My solution for now is essentially do all the things that I would consider something a successful person should be doing. Exercise again, study spanish again, get back into the workforce ASAP and work myself life a master of a slave(me filling both roles) until I start to enjoy it simply because of the routine, ignore the future while still making decisions that should, in turn eventually go well but don\\'t bank on anyone or anything.'), ('fcqx3av', \"I've never heard of anybody more motivated and resilient than you. Look at all you've made it through! You're amazing! After reading this, I am legitimately in awe of you.\\n\\nI am so happy to hear you're post OP and cancer free. You've got a lull in your life, a quiet time at your family's farm. I know you're tired of putting out effort and not seeing returns - I've been there too, and sometimes I still feel that way. Maybe you should take this quiet time in the new year to reevaluate your wants - your feelings - your beliefs about how the world works. And find a new approach to happiness.\\n\\nAs for the PTSD, I can empathize. Anxiety keeps me from climbing and maintaining the career ladder, too. It gets better when you seek help! Therapy and support groups can work wonders over time! There's no shame in seeking help, you deserve to be happy!\\n\\nI'm rooting for you, all the way. Take care of yourself, going forward.\"), ('fcq1htc', 'Just to say I hear you. My energy is running out too. I wish I could say something useful but I don\\'t know what to do either. It just keeps getting heavier and I end up thinking \"wow I thought it was tough to cope before, surely I\\'m not going to survive this much longer\". Hang in there.'), ('fcp8lux', 'Listen brother, you survived the damn wars.  \\nYou beat fucking cancer!  You are 7 days post-op!\\nGive yourself a break and breathe.   Be gentle to yourself and let your body heal.  Focus on that first.  If 2019 was absolute shit, 2020 can only be better.  Death is a one way ticket that never expires.  Don’t get on that train any time soon.\\nYou still got shit to do, even if you don’t know what that is yet.  You need time to figure that out.   \\nImma raise a glass to us being fucking alive.'), ('fcoxvai', \"Yeah, I hear ya.  Maybe find someone you can talk to.  A friend, family or guy you served with?  Someone who will listen and be there to give you some support.  Even if it's a counselor or therapist.  We all need to vent sometimes and just be heard.  Don't give up just yet cause you sound like your still young and things will and do change in life.\"), ('fcouxjs', 'I appreciate it, trying to find motivation man, just trying to get motivated.'), ('fcoun0e', 'Sorry about your struggles.  Life can be tough.  But things can turn around for you.  Just need to find something you enjoy in life and set some goals to go along with it.  Give yourself something to live for so you can wake up every day with a purpose.')]}\n"
          ]
        }
      ]
    }
  ]
}