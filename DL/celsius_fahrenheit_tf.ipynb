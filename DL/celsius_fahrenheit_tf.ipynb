{
  "nbformat": 4,
  "nbformat_minor": 0,
  "metadata": {
    "colab": {
      "name": "celsius_fahrenheit_tf.ipynb",
      "provenance": [],
      "authorship_tag": "ABX9TyNBkBjKz6abhiZF6ycP9pDX",
      "include_colab_link": true
    },
    "kernelspec": {
      "name": "python3",
      "display_name": "Python 3"
    },
    "language_info": {
      "name": "python"
    }
  },
  "cells": [
    {
      "cell_type": "markdown",
      "metadata": {
        "id": "view-in-github",
        "colab_type": "text"
      },
      "source": [
        "<a href=\"https://colab.research.google.com/github/tanyagupta1/Machine-Learning/blob/main/DL/celsius_fahrenheit_tf.ipynb\" target=\"_parent\"><img src=\"https://colab.research.google.com/assets/colab-badge.svg\" alt=\"Open In Colab\"/></a>"
      ]
    },
    {
      "cell_type": "code",
      "metadata": {
        "id": "8L3GYpcFitej"
      },
      "source": [
        "import tensorflow as tf\n",
        "import numpy as np"
      ],
      "execution_count": 2,
      "outputs": []
    },
    {
      "cell_type": "code",
      "metadata": {
        "colab": {
          "base_uri": "https://localhost:8080/"
        },
        "id": "csLpdH4rjLqf",
        "outputId": "f5933e6a-a3ed-415e-cee0-edd7f96ec844"
      },
      "source": [
        "celsius_q    = np.array([-40, -10,  0,  8, 15, 22,  38],  dtype=float)\n",
        "fahrenheit_a = np.array([-40,  14, 32, 46, 59, 72, 100],  dtype=float)\n",
        "for i,c in enumerate(celsius_q):\n",
        "  print(\"{} celcius = {} fahrenheit\".format(c,fahrenheit_a[i]))"
      ],
      "execution_count": 3,
      "outputs": [
        {
          "output_type": "stream",
          "text": [
            "-40.0 celcius = -40.0 fahrenheit\n",
            "-10.0 celcius = 14.0 fahrenheit\n",
            "0.0 celcius = 32.0 fahrenheit\n",
            "8.0 celcius = 46.0 fahrenheit\n",
            "15.0 celcius = 59.0 fahrenheit\n",
            "22.0 celcius = 72.0 fahrenheit\n",
            "38.0 celcius = 100.0 fahrenheit\n"
          ],
          "name": "stdout"
        }
      ]
    },
    {
      "cell_type": "code",
      "metadata": {
        "id": "9uoK085UoAqf"
      },
      "source": [
        "layer0=tf.keras.layers.Dense(units=1,input_shape=[1])\n",
        "model=tf.keras.Sequential([layer0])"
      ],
      "execution_count": 5,
      "outputs": []
    },
    {
      "cell_type": "code",
      "metadata": {
        "id": "4_QS9JKgohAd"
      },
      "source": [
        "model.compile(loss='mean_squared_error',optimizer=tf.keras.optimizers.Adam(0.1))"
      ],
      "execution_count": 6,
      "outputs": []
    },
    {
      "cell_type": "code",
      "metadata": {
        "id": "rRxUqtSTo6sQ"
      },
      "source": [
        "history=model.fit(celsius_q,fahrenheit_a,epochs=500,verbose=False)"
      ],
      "execution_count": 7,
      "outputs": []
    },
    {
      "cell_type": "code",
      "metadata": {
        "colab": {
          "base_uri": "https://localhost:8080/",
          "height": 282
        },
        "id": "2iWtNJTIpehn",
        "outputId": "7d347dd9-7361-4dd9-c0bf-ee6ad6c81585"
      },
      "source": [
        "import matplotlib.pyplot as plt\n",
        "plt.plot(history.history['loss'])"
      ],
      "execution_count": 8,
      "outputs": [
        {
          "output_type": "execute_result",
          "data": {
            "text/plain": [
              "[<matplotlib.lines.Line2D at 0x7fd22a2abf50>]"
            ]
          },
          "metadata": {
            "tags": []
          },
          "execution_count": 8
        },
        {
          "output_type": "display_data",
          "data": {
            "image/png": "[encoded data removed]",
            "text/plain": [
              "<Figure size 432x288 with 1 Axes>"
            ]
          },
          "metadata": {
            "tags": [],
            "needs_background": "light"
          }
        }
      ]
    },
    {
      "cell_type": "code",
      "metadata": {
        "colab": {
          "base_uri": "https://localhost:8080/"
        },
        "id": "24Ftg1PHp9-G",
        "outputId": "0978399c-b7d2-4b17-e2a5-96fc125c9b40"
      },
      "source": [
        "print(\"layer variables {}\".format(layer0.get_weights()))"
      ],
      "execution_count": 9,
      "outputs": [
        {
          "output_type": "stream",
          "text": [
            "layer variables [array([[1.8210167]], dtype=float32), array([29.233303], dtype=float32)]\n"
          ],
          "name": "stdout"
        }
      ]
    },
    {
      "cell_type": "markdown",
      "metadata": {
        "id": "HBSAO9WyqVFH"
      },
      "source": [
        "**Using 2 layers**"
      ]
    },
    {
      "cell_type": "code",
      "metadata": {
        "id": "YqfoZs3lqbTr"
      },
      "source": [
        "layer0=tf.keras.layers.Dense(units=4,input_shape=[1])\n",
        "layer1=tf.keras.layers.Dense(units=4)\n",
        "layer2=tf.keras.layers.Dense(units=1)\n",
        "model=tf.keras.Sequential([layer0,layer1,layer2])\n",
        "model.compile(loss='mean_squared_error',optimizer=tf.keras.optimizers.Adam(0.1))"
      ],
      "execution_count": 10,
      "outputs": []
    },
    {
      "cell_type": "code",
      "metadata": {
        "colab": {
          "base_uri": "https://localhost:8080/"
        },
        "id": "DIuNmHhWrOWm",
        "outputId": "6fa56d35-cafd-4565-cd51-63c1de46300e"
      },
      "source": [
        "model.fit(celsius_q,fahrenheit_a,epochs=500,verbose=False)\n",
        "model.predict([100])"
      ],
      "execution_count": 11,
      "outputs": [
        {
          "output_type": "execute_result",
          "data": {
            "text/plain": [
              "array([[211.74744]], dtype=float32)"
            ]
          },
          "metadata": {
            "tags": []
          },
          "execution_count": 11
        }
      ]
    }
  ]
}