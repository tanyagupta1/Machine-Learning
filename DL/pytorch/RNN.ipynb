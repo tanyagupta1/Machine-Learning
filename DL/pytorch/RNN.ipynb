{
  "nbformat": 4,
  "nbformat_minor": 0,
  "metadata": {
    "colab": {
      "name": "RNN.ipynb",
      "provenance": [],
      "authorship_tag": "ABX9TyPTljl38pxI0WonW+Yy/YZY",
      "include_colab_link": true
    },
    "kernelspec": {
      "name": "python3",
      "display_name": "Python 3"
    },
    "language_info": {
      "name": "python"
    }
  },
  "cells": [
    {
      "cell_type": "markdown",
      "metadata": {
        "id": "view-in-github",
        "colab_type": "text"
      },
      "source": [
        "<a href=\"https://colab.research.google.com/github/tanyagupta1/Machine-Learning/blob/main/DL/pytorch/RNN.ipynb\" target=\"_parent\"><img src=\"https://colab.research.google.com/assets/colab-badge.svg\" alt=\"Open In Colab\"/></a>"
      ]
    },
    {
      "cell_type": "code",
      "metadata": {
        "id": "8KgnZ_Z6I97b"
      },
      "source": [
        "import torch\n",
        "from torch import nn\n",
        "import numpy as np\n",
        "import matplotlib.pyplot as plt\n",
        "%matplotlib inline"
      ],
      "execution_count": 1,
      "outputs": []
    },
    {
      "cell_type": "code",
      "metadata": {
        "colab": {
          "base_uri": "https://localhost:8080/",
          "height": 337
        },
        "id": "hU06irEwLChE",
        "outputId": "a10ba6cc-9caf-4900-8813-e4023a716e1e"
      },
      "source": [
        "plt.figure(figsize=(8,5))\n",
        "seq_length = 20\n",
        "time_steps = np.linspace(0,np.pi,seq_length+1)\n",
        "data=np.sin(time_steps)\n",
        "data.resize((seq_length+1,1))\n",
        "x=data[:-1]\n",
        "y=data[1:]\n",
        "plt.plot(time_steps[1:],x,label='x')\n",
        "plt.plot(time_steps[1:],y,label='y')\n",
        "plt.legend()"
      ],
      "execution_count": 8,
      "outputs": [
        {
          "output_type": "execute_result",
          "data": {
            "text/plain": [
              "<matplotlib.legend.Legend at 0x7fc3de9feb10>"
            ]
          },
          "metadata": {
            "tags": []
          },
          "execution_count": 8
        },
        {
          "output_type": "display_data",
          "data": {
            "image/png": "[encoded data removed]",
            "text/plain": [
              "<Figure size 576x360 with 1 Axes>"
            ]
          },
          "metadata": {
            "tags": [],
            "needs_background": "light"
          }
        }
      ]
    },
    {
      "cell_type": "code",
      "metadata": {
        "id": "ZEyLC1yiMvvE"
      },
      "source": [
        "class RNN(nn.Module):\n",
        "  def __init__(self,input_size,output_size,hidden_dim,n_layers):\n",
        "    super(RNN,self).__init__()\n",
        "    self.hidden_dim = hidden_dim\n",
        "    self.rnn = nn.RNN(input_size,hidden_dim,n_layers,batch_first=True)\n",
        "    self.fc = nn.Linear(hidden_dim,output_size)\n",
        "\n",
        "  def forward(self,x,hidden):\n",
        "    batch_size = x.size(0)\n",
        "    r_out,hidden = self.rnn(x,hidden)\n",
        "    r_out = r_out.view(-1,self.hidden_dim)\n",
        "    output = self.fc(r_out)\n",
        "    return output,hidden\n",
        "\n",
        "    # x (batch_size, seq_length, input_size)\n",
        "    # hidden (n_layers, batch_size, hidden_dim)\n",
        "    # r_out (batch_size, time_step, hidden_size)"
      ],
      "execution_count": 10,
      "outputs": []
    },
    {
      "cell_type": "code",
      "metadata": {
        "colab": {
          "base_uri": "https://localhost:8080/"
        },
        "id": "8P_Wa-g6Mv2_",
        "outputId": "ca8eeb76-e7c2-4b3e-bb64-dd1afbb247cc"
      },
      "source": [
        "test_rnn = RNN(input_size=1,output_size=1,hidden_dim=10,n_layers=2)\n",
        "time_steps = np.linspace(0, np.pi, seq_length)\n",
        "data = np.sin(time_steps)\n",
        "data.resize((seq_length, 1))\n",
        "test_input = torch.Tensor(data).unsqueeze(0)\n",
        "print(test_input.size())"
      ],
      "execution_count": 11,
      "outputs": [
        {
          "output_type": "stream",
          "text": [
            "torch.Size([1, 20, 1])\n"
          ],
          "name": "stdout"
        }
      ]
    },
    {
      "cell_type": "code",
      "metadata": {
        "colab": {
          "base_uri": "https://localhost:8080/"
        },
        "id": "_ikCvOq1T7I-",
        "outputId": "32c528ed-a33b-490d-e3dd-59a08ef0d5ab"
      },
      "source": [
        "test_out,test_h=test_rnn(test_input,None)\n",
        "print(test_out.size(),test_h.size())"
      ],
      "execution_count": 12,
      "outputs": [
        {
          "output_type": "stream",
          "text": [
            "torch.Size([20, 1]) torch.Size([2, 1, 10])\n"
          ],
          "name": "stdout"
        }
      ]
    },
    {
      "cell_type": "code",
      "metadata": {
        "colab": {
          "base_uri": "https://localhost:8080/"
        },
        "id": "V-jgHa0LWLiN",
        "outputId": "4ecc927d-2b5c-4081-c462-a71a45baa52c"
      },
      "source": [
        "input_size=1\n",
        "output_size=1\n",
        "hidden_dim=32\n",
        "n_layers=1\n",
        "rnn= RNN(input_size,output_size,hidden_dim,n_layers)\n",
        "print(rnn)"
      ],
      "execution_count": 13,
      "outputs": [
        {
          "output_type": "stream",
          "text": [
            "RNN(\n",
            "  (rnn): RNN(1, 32, batch_first=True)\n",
            "  (fc): Linear(in_features=32, out_features=1, bias=True)\n",
            ")\n"
          ],
          "name": "stdout"
        }
      ]
    },
    {
      "cell_type": "code",
      "metadata": {
        "id": "1r4pXFuxXM0V"
      },
      "source": [
        "criterion= nn.MSELoss()\n",
        "optimizer= torch.optim.Adam(rnn.parameters(),lr=0.01)"
      ],
      "execution_count": 19,
      "outputs": []
    },
    {
      "cell_type": "code",
      "metadata": {
        "id": "weoHuwCfXa8P"
      },
      "source": [
        "def train(rnn,n_steps,print_every):\n",
        "  hidden=None\n",
        "\n",
        "  for batch_i,step in enumerate(range(n_steps)):\n",
        "    time_steps = np.linspace(step*np.pi,(step+1)*np.pi,seq_length+1)\n",
        "    data  = np.sin(time_steps)\n",
        "    data.resize(seq_length+1,1)\n",
        "    x=data[:-1]\n",
        "    y=data[1:]\n",
        "\n",
        "    x_tensor = torch.Tensor(x).unsqueeze(0)\n",
        "    y_tensor = torch.Tensor(y)\n",
        "\n",
        "    prediction,hidden = rnn(x_tensor,hidden)\n",
        "    hidden = hidden.data\n",
        "\n",
        "    loss = criterion(prediction,y_tensor)\n",
        "    optimizer.zero_grad()\n",
        "    loss.backward()\n",
        "    optimizer.step()\n",
        "\n",
        "    if batch_i%print_every == 0:        \n",
        "      print('Loss: ', loss.item())\n",
        "      plt.plot(time_steps[1:], x, 'r.') # input\n",
        "      plt.plot(time_steps[1:], prediction.data.numpy().flatten(), 'b.') # predictions\n",
        "      plt.show()\n",
        "  return rnn\n"
      ],
      "execution_count": 24,
      "outputs": []
    },
    {
      "cell_type": "code",
      "metadata": {
        "colab": {
          "base_uri": "https://localhost:8080/",
          "height": 1000
        },
        "id": "YBRnUqBrdGsD",
        "outputId": "2de8ec00-d6ac-4943-97b2-559c0dc9a9ea"
      },
      "source": [
        "trained_rnn=train(rnn,75,15)"
      ],
      "execution_count": 25,
      "outputs": [
        {
          "output_type": "stream",
          "text": [
            "Loss:  0.19262593984603882\n"
          ],
          "name": "stdout"
        },
        {
          "output_type": "display_data",
          "data": {
            "image/png": "[encoded data removed]",
            "text/plain": [
              "<Figure size 432x288 with 1 Axes>"
            ]
          },
          "metadata": {
            "tags": [],
            "needs_background": "light"
          }
        },
        {
          "output_type": "stream",
          "text": [
            "Loss:  0.01994645968079567\n"
          ],
          "name": "stdout"
        },
        {
          "output_type": "display_data",
          "data": {
            "image/png": "[encoded data removed]",
            "text/plain": [
              "<Figure size 432x288 with 1 Axes>"
            ]
          },
          "metadata": {
            "tags": [],
            "needs_background": "light"
          }
        },
        {
          "output_type": "stream",
          "text": [
            "Loss:  0.0009415079839527607\n"
          ],
          "name": "stdout"
        },
        {
          "output_type": "display_data",
          "data": {
            "image/png": "[encoded data removed]",
            "text/plain": [
              "<Figure size 432x288 with 1 Axes>"
            ]
          },
          "metadata": {
            "tags": [],
            "needs_background": "light"
          }
        },
        {
          "output_type": "stream",
          "text": [
            "Loss:  0.0005095213418826461\n"
          ],
          "name": "stdout"
        },
        {
          "output_type": "display_data",
          "data": {
            "image/png": "[encoded data removed]",
            "text/plain": [
              "<Figure size 432x288 with 1 Axes>"
            ]
          },
          "metadata": {
            "tags": [],
            "needs_background": "light"
          }
        },
        {
          "output_type": "stream",
          "text": [
            "Loss:  9.908942593028769e-05\n"
          ],
          "name": "stdout"
        },
        {
          "output_type": "display_data",
          "data": {
            "image/png": "[encoded data removed]",
            "text/plain": [
              "<Figure size 432x288 with 1 Axes>"
            ]
          },
          "metadata": {
            "tags": [],
            "needs_background": "light"
          }
        }
      ]
    }
  ]
}