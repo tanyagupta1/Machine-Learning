{
  "nbformat": 4,
  "nbformat_minor": 0,
  "metadata": {
    "colab": {
      "name": "fashion_train_dropout.ipynb",
      "provenance": [],
      "authorship_tag": "ABX9TyPWfXyAmkMVyq0V3EKTq/dA",
      "include_colab_link": true
    },
    "kernelspec": {
      "name": "python3",
      "display_name": "Python 3"
    },
    "language_info": {
      "name": "python"
    }
  },
  "cells": [
    {
      "cell_type": "markdown",
      "metadata": {
        "id": "view-in-github",
        "colab_type": "text"
      },
      "source": [
        "<a href=\"https://colab.research.google.com/github/tanyagupta1/Machine-Learning/blob/main/DL/pytorch/fashion_train_dropout.ipynb\" target=\"_parent\"><img src=\"https://colab.research.google.com/assets/colab-badge.svg\" alt=\"Open In Colab\"/></a>"
      ]
    },
    {
      "cell_type": "code",
      "metadata": {
        "id": "o1dRZ5JZeTvz"
      },
      "source": [
        "import torch\n",
        "from torchvision import datasets, transforms\n",
        "import helper\n",
        "\n",
        "# Define a transform to normalize the data\n",
        "transform = transforms.Compose([transforms.ToTensor(),\n",
        "                                transforms.Normalize((0.5), (0.5))])\n",
        "# Download and load the training data\n",
        "trainset = datasets.FashionMNIST('F_MNIST_data/', download=True, train=True, transform=transform)\n",
        "trainloader = torch.utils.data.DataLoader(trainset, batch_size=64, shuffle=True)\n",
        "\n",
        "# Download and load the test data\n",
        "testset = datasets.FashionMNIST('F_MNIST_data/', download=True, train=False, transform=transform)\n",
        "testloader = torch.utils.data.DataLoader(testset, batch_size=64, shuffle=True)"
      ],
      "execution_count": null,
      "outputs": []
    },
    {
      "cell_type": "code",
      "metadata": {
        "id": "iGXiL2N9e73v"
      },
      "source": [
        "import matplotlib.pyplot as plt\n",
        "import numpy as np\n",
        "import time\n",
        "\n",
        "import torch\n",
        "from torch import nn\n",
        "from torch import optim\n",
        "import torch.nn.functional as F\n",
        "from torchvision import datasets, transforms\n",
        "\n",
        "import helper"
      ],
      "execution_count": 36,
      "outputs": []
    },
    {
      "cell_type": "code",
      "metadata": {
        "id": "6paArJHH-KN3"
      },
      "source": [
        "class Classifier(nn.Module):\n",
        "  def __init__(self):\n",
        "    super().__init__()\n",
        "    self.h1=nn.Linear(784,256)\n",
        "    self.h2=nn.Linear(256,128)\n",
        "    self.h3=nn.Linear(128,64)\n",
        "    self.h4=nn.Linear(64,10)\n",
        "\n",
        "  def forward(self,x):\n",
        "    x=x.view(x.shape[0],-1)\n",
        "    x=F.relu(self.h1(x))\n",
        "    x=F.relu(self.h2(x))\n",
        "    x=F.relu(self.h3(x))\n",
        "    x=F.log_softmax(self.h4(x),dim=1)\n",
        "    return x"
      ],
      "execution_count": 37,
      "outputs": []
    },
    {
      "cell_type": "code",
      "metadata": {
        "id": "S8qb4fB8_hnt"
      },
      "source": [
        "model = Classifier()\n",
        "criterion=nn.NLLLoss()\n",
        "optimizer = optim.Adam(model.parameters(),lr=0.003)"
      ],
      "execution_count": 38,
      "outputs": []
    },
    {
      "cell_type": "code",
      "metadata": {
        "colab": {
          "base_uri": "https://localhost:8080/"
        },
        "id": "0lwDtzriAcAt",
        "outputId": "4a317463-1793-4401-bdf4-ed5e434261fa"
      },
      "source": [
        "epochs = 10\n",
        "for e in range(epochs):\n",
        "  running_loss=0\n",
        "  for images,labels in trainloader:\n",
        "    logps = model(images)\n",
        "    loss = criterion(logps,labels)\n",
        "    optimizer.zero_grad()\n",
        "    loss.backward()\n",
        "    optimizer.step()\n",
        "    running_loss += loss.item()\n",
        "  else:\n",
        "    print(running_loss)"
      ],
      "execution_count": 20,
      "outputs": [
        {
          "output_type": "stream",
          "text": [
            "282.94639137387276\n",
            "273.8368840441108\n",
            "264.3253283575177\n",
            "255.785213958472\n",
            "251.44341783225536\n",
            "246.693680357188\n",
            "234.3947199806571\n",
            "231.9399501606822\n",
            "225.31659826636314\n",
            "220.0833459198475\n"
          ],
          "name": "stdout"
        }
      ]
    },
    {
      "cell_type": "code",
      "metadata": {
        "id": "ObiwYXmHDUDS"
      },
      "source": [
        "\n",
        "def view_classify(img, ps, version=\"MNIST\"):\n",
        "    ''' Function for viewing an image and it's predicted classes.\n",
        "    '''\n",
        "    ps = ps.data.numpy().squeeze()\n",
        "\n",
        "    fig, (ax1, ax2) = plt.subplots(figsize=(6,9), ncols=2)\n",
        "    ax1.imshow(img.resize_(1, 28, 28).numpy().squeeze())\n",
        "    ax1.axis('off')\n",
        "    ax2.barh(np.arange(10), ps)\n",
        "    ax2.set_aspect(0.1)\n",
        "    ax2.set_yticks(np.arange(10))\n",
        "    if version == \"MNIST\":\n",
        "        ax2.set_yticklabels(np.arange(10))\n",
        "    elif version == \"Fashion\":\n",
        "        ax2.set_yticklabels(['T-shirt/top',\n",
        "                            'Trouser',\n",
        "                            'Pullover',\n",
        "                            'Dress',\n",
        "                            'Coat',\n",
        "                            'Sandal',\n",
        "                            'Shirt',\n",
        "                            'Sneaker',\n",
        "                            'Bag',\n",
        "                            'Ankle Boot'], size='small');\n",
        "    ax2.set_title('Class Probability')\n",
        "    ax2.set_xlim(0, 1.1)\n",
        "\n",
        "    plt.tight_layout()"
      ],
      "execution_count": 24,
      "outputs": []
    },
    {
      "cell_type": "code",
      "metadata": {
        "colab": {
          "base_uri": "https://localhost:8080/",
          "height": 451
        },
        "id": "h0yjq7IqCHBG",
        "outputId": "339833f3-6718-4aad-ea96-4248bbf3e1fe"
      },
      "source": [
        "dataiter = iter(testloader)\n",
        "images,labels = dataiter.next()\n",
        "for i in range(2):\n",
        "  img = images[i]\n",
        "  ps = torch.exp(model(img))\n",
        "  view_classify(img,ps,version='Fashion')"
      ],
      "execution_count": 31,
      "outputs": [
        {
          "output_type": "display_data",
          "data": {
            "image/png": "[encoded data removed]",
            "text/plain": [
              "<Figure size 432x648 with 2 Axes>"
            ]
          },
          "metadata": {
            "tags": [],
            "needs_background": "light"
          }
        },
        {
          "output_type": "display_data",
          "data": {
            "image/png": "[encoded data removed]",
            "text/plain": [
              "<Figure size 432x648 with 2 Axes>"
            ]
          },
          "metadata": {
            "tags": [],
            "needs_background": "light"
          }
        }
      ]
    },
    {
      "cell_type": "markdown",
      "metadata": {
        "id": "24uv3tG4JHxd"
      },
      "source": [
        "Validation and accuracy measurement"
      ]
    },
    {
      "cell_type": "code",
      "metadata": {
        "colab": {
          "base_uri": "https://localhost:8080/"
        },
        "id": "GS-S5o8nJQNc",
        "outputId": "1cc7de08-5979-4de1-cb63-e993f19bf9b0"
      },
      "source": [
        "epochs = 10\n",
        "train_losses=[]\n",
        "test_losses=[]\n",
        "for e in range(epochs):\n",
        "  running_loss=0\n",
        "  for images,labels in trainloader:\n",
        "    logps = model(images)\n",
        "    loss = criterion(logps,labels)\n",
        "    optimizer.zero_grad()\n",
        "    loss.backward()\n",
        "    optimizer.step()\n",
        "    running_loss += loss.item()\n",
        "  else:\n",
        "    test_loss = 0\n",
        "    accuracy = 0\n",
        "    with torch.no_grad():\n",
        "      for images,labels in testloader:\n",
        "        logps = model(images)\n",
        "        test_loss += criterion(logps,labels)\n",
        "        ps=torch.exp(logps)\n",
        "        top_p,top_class=ps.topk(1,dim=1)\n",
        "        equals=top_class=labels.view(*top_class.shape)\n",
        "        accuracy += torch.mean(equals.type(torch.FloatTensor))\n",
        "    train_losses.append(running_loss/len(trainloader))\n",
        "    test_losses.append(test_loss/len(testloader))\n",
        "\n",
        "    print(\"Epochs {}/{}\".format(e+1,epochs),\n",
        "          \"Training Loss:{:.3f}..\".format(train_losses[-1]),\n",
        "          \"Test Loss:{:.3f}..\".format(test_losses[-1]),\n",
        "          \"Accuracy :{:.3f}..\".format(accuracy/(len(testloader))))\n"
      ],
      "execution_count": 39,
      "outputs": [
        {
          "output_type": "stream",
          "text": [
            "Epochs 1/10 Training Loss:0.514.. Test Loss:0.438.. Accuracy :4.496..\n",
            "Epochs 2/10 Training Loss:0.389.. Test Loss:0.400.. Accuracy :4.498..\n",
            "Epochs 3/10 Training Loss:0.357.. Test Loss:0.378.. Accuracy :4.500..\n",
            "Epochs 4/10 Training Loss:0.332.. Test Loss:0.388.. Accuracy :4.501..\n",
            "Epochs 5/10 Training Loss:0.316.. Test Loss:0.408.. Accuracy :4.504..\n",
            "Epochs 6/10 Training Loss:0.305.. Test Loss:0.388.. Accuracy :4.500..\n",
            "Epochs 7/10 Training Loss:0.295.. Test Loss:0.373.. Accuracy :4.503..\n",
            "Epochs 8/10 Training Loss:0.286.. Test Loss:0.353.. Accuracy :4.495..\n",
            "Epochs 9/10 Training Loss:0.276.. Test Loss:0.361.. Accuracy :4.502..\n",
            "Epochs 10/10 Training Loss:0.267.. Test Loss:0.368.. Accuracy :4.500..\n"
          ],
          "name": "stdout"
        }
      ]
    },
    {
      "cell_type": "code",
      "metadata": {
        "colab": {
          "base_uri": "https://localhost:8080/",
          "height": 282
        },
        "id": "VgyqC3edOfV_",
        "outputId": "d67b38f7-c572-41a9-d6f4-ce4d91df5470"
      },
      "source": [
        "plt.plot(train_losses,label='Training loss')\n",
        "plt.plot(test_losses,label='Test loss')\n",
        "plt.legend()"
      ],
      "execution_count": 41,
      "outputs": [
        {
          "output_type": "execute_result",
          "data": {
            "text/plain": [
              "<matplotlib.legend.Legend at 0x7f94e3e64ad0>"
            ]
          },
          "metadata": {
            "tags": []
          },
          "execution_count": 41
        },
        {
          "output_type": "display_data",
          "data": {
            "image/png": "[encoded data removed]",
            "text/plain": [
              "<Figure size 432x288 with 1 Axes>"
            ]
          },
          "metadata": {
            "tags": [],
            "needs_background": "light"
          }
        }
      ]
    },
    {
      "cell_type": "code",
      "metadata": {
        "id": "oaETpt-9Pm62"
      },
      "source": [
        "class Classifier_Dropout(nn.Module):\n",
        "  def __init__(self):\n",
        "    super().__init__()\n",
        "    self.h1=nn.Linear(784,256)\n",
        "    self.h2=nn.Linear(256,128)\n",
        "    self.h3=nn.Linear(128,64)\n",
        "    self.h4=nn.Linear(64,10)\n",
        "    self.dropout = nn.Dropout(p=0.2)\n",
        "\n",
        "  def forward(self,x):\n",
        "    x=x.view(x.shape[0],-1)\n",
        "    x=self.dropout(F.relu(self.h1(x)))\n",
        "    x=self.dropout(F.relu(self.h2(x)))\n",
        "    x=self.dropout(F.relu(self.h3(x)))\n",
        "    x=F.log_softmax(self.h4(x),dim=1)\n",
        "    return x"
      ],
      "execution_count": 42,
      "outputs": []
    },
    {
      "cell_type": "markdown",
      "metadata": {
        "id": "StlamEBfQcZB"
      },
      "source": [
        "Use model.eval() to make p f dropout 0, for example during validation\n",
        "<br> Use model.train() to turn it back on"
      ]
    },
    {
      "cell_type": "code",
      "metadata": {
        "colab": {
          "base_uri": "https://localhost:8080/"
        },
        "id": "e-GgYP0wQwNe",
        "outputId": "7e000654-bb4f-4bc1-a739-c12c9c9b55b1"
      },
      "source": [
        "model = Classifier_Dropout()\n",
        "criterion=nn.NLLLoss()\n",
        "optimizer = optim.Adam(model.parameters(),lr=0.003)\n",
        "epochs = 10\n",
        "train_losses=[]\n",
        "test_losses=[]\n",
        "for e in range(epochs):\n",
        "  running_loss=0\n",
        "  for images,labels in trainloader:\n",
        "    logps = model(images)\n",
        "    loss = criterion(logps,labels)\n",
        "    optimizer.zero_grad()\n",
        "    loss.backward()\n",
        "    optimizer.step()\n",
        "    running_loss += loss.item()\n",
        "  else:\n",
        "    test_loss = 0\n",
        "    accuracy = 0\n",
        "    with torch.no_grad():\n",
        "      model.eval()\n",
        "      for images,labels in testloader:\n",
        "        logps = model(images)\n",
        "        test_loss += criterion(logps,labels)\n",
        "        ps=torch.exp(logps)\n",
        "        top_p,top_class=ps.topk(1,dim=1)\n",
        "        equals=top_class=labels.view(*top_class.shape)\n",
        "        accuracy += torch.mean(equals.type(torch.FloatTensor))\n",
        "    train_losses.append(running_loss/len(trainloader))\n",
        "    test_losses.append(test_loss/len(testloader))\n",
        "    model.train()\n",
        "\n",
        "    print(\"Epochs {}/{}\".format(e+1,epochs),\n",
        "          \"Training Loss:{:.3f}..\".format(train_losses[-1]),\n",
        "          \"Test Loss:{:.3f}..\".format(test_losses[-1]),\n",
        "          \"Accuracy :{:.3f}..\".format(accuracy/(len(testloader))))"
      ],
      "execution_count": 43,
      "outputs": [
        {
          "output_type": "stream",
          "text": [
            "Epochs 1/10 Training Loss:0.611.. Test Loss:0.491.. Accuracy :4.500..\n",
            "Epochs 2/10 Training Loss:0.482.. Test Loss:0.431.. Accuracy :4.512..\n",
            "Epochs 3/10 Training Loss:0.450.. Test Loss:0.412.. Accuracy :4.500..\n",
            "Epochs 4/10 Training Loss:0.432.. Test Loss:0.419.. Accuracy :4.499..\n",
            "Epochs 5/10 Training Loss:0.424.. Test Loss:0.402.. Accuracy :4.498..\n",
            "Epochs 6/10 Training Loss:0.414.. Test Loss:0.399.. Accuracy :4.498..\n",
            "Epochs 7/10 Training Loss:0.407.. Test Loss:0.380.. Accuracy :4.498..\n",
            "Epochs 8/10 Training Loss:0.397.. Test Loss:0.398.. Accuracy :4.499..\n",
            "Epochs 9/10 Training Loss:0.395.. Test Loss:0.377.. Accuracy :4.499..\n",
            "Epochs 10/10 Training Loss:0.391.. Test Loss:0.388.. Accuracy :4.504..\n"
          ],
          "name": "stdout"
        }
      ]
    },
    {
      "cell_type": "code",
      "metadata": {
        "colab": {
          "base_uri": "https://localhost:8080/",
          "height": 282
        },
        "id": "WOuMxyfRQwc7",
        "outputId": "e91d8aca-f779-4291-fe3c-4b84da54684c"
      },
      "source": [
        "plt.plot(train_losses,label=\"Train Loss\")\n",
        "plt.plot(test_losses,label=\"Test Loss\")\n",
        "plt.legend()"
      ],
      "execution_count": 44,
      "outputs": [
        {
          "output_type": "execute_result",
          "data": {
            "text/plain": [
              "<matplotlib.legend.Legend at 0x7f94e3e775d0>"
            ]
          },
          "metadata": {
            "tags": []
          },
          "execution_count": 44
        },
        {
          "output_type": "display_data",
          "data": {
            "image/png": "[encoded data removed]",
            "text/plain": [
              "<Figure size 432x288 with 1 Axes>"
            ]
          },
          "metadata": {
            "tags": [],
            "needs_background": "light"
          }
        }
      ]
    }
  ]
}