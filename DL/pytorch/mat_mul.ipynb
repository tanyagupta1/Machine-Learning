{
  "nbformat": 4,
  "nbformat_minor": 0,
  "metadata": {
    "colab": {
      "name": "mat_mul.ipynb",
      "provenance": [],
      "authorship_tag": "ABX9TyPAgkut8NV08I81rhkpIe05",
      "include_colab_link": true
    },
    "kernelspec": {
      "name": "python3",
      "display_name": "Python 3"
    },
    "language_info": {
      "name": "python"
    }
  },
  "cells": [
    {
      "cell_type": "markdown",
      "metadata": {
        "id": "view-in-github",
        "colab_type": "text"
      },
      "source": [
        "<a href=\"https://colab.research.google.com/github/tanyagupta1/Machine-Learning/blob/main/DL/pytorch/mat_mul.ipynb\" target=\"_parent\"><img src=\"https://colab.research.google.com/assets/colab-badge.svg\" alt=\"Open In Colab\"/></a>"
      ]
    },
    {
      "cell_type": "code",
      "metadata": {
        "id": "zXo3TtM5dpO-"
      },
      "source": [
        "import torch"
      ],
      "execution_count": 1,
      "outputs": []
    },
    {
      "cell_type": "code",
      "metadata": {
        "id": "HVz_70DYeT7B"
      },
      "source": [
        "def activation(x):\n",
        "  return 1/(1+torch.exp(-x))"
      ],
      "execution_count": 2,
      "outputs": []
    },
    {
      "cell_type": "code",
      "metadata": {
        "id": "eV93e-bMecYn"
      },
      "source": [
        "torch.manual_seed(7)\n",
        "features=torch.randn((1,5))\n",
        "weights=torch.randn_like(features)\n",
        "weights=weights.view(5,1)\n",
        "bias=torch.randn((1,1))"
      ],
      "execution_count": 5,
      "outputs": []
    },
    {
      "cell_type": "code",
      "metadata": {
        "colab": {
          "base_uri": "https://localhost:8080/"
        },
        "id": "xgf9R1IceveQ",
        "outputId": "2f770c0d-2083-4186-a117-4b843b62760d"
      },
      "source": [
        "ans = torch.add(torch.matmul(features,weights),bias)\n",
        "print(activation(ans))"
      ],
      "execution_count": 6,
      "outputs": [
        {
          "output_type": "stream",
          "text": [
            "tensor([[0.1595]])\n"
          ],
          "name": "stdout"
        }
      ]
    },
    {
      "cell_type": "code",
      "metadata": {
        "colab": {
          "base_uri": "https://localhost:8080/"
        },
        "id": "qTzoSNKHxHJf",
        "outputId": "d6c46e38-d58d-4fab-a88d-1b18a2973f7d"
      },
      "source": [
        "torch.manual_seed(7)\n",
        "features = torch.randn((1,3))\n",
        "n_input = features.shape[1]\n",
        "n_hidden = 2\n",
        "n_output = 1\n",
        "W1 = torch.randn((n_input,n_hidden))\n",
        "W2 = torch.randn((n_hidden,n_output))\n",
        "\n",
        "B1 = torch.randn((1,n_hidden))\n",
        "B2 = torch.randn(1,n_output)\n",
        "\n",
        "int1 = activation(torch.matmul(features,W1)+B1)\n",
        "\n",
        "ans=activation(torch.matmul(int1,W2)+B2)\n",
        "\n",
        "ans"
      ],
      "execution_count": 8,
      "outputs": [
        {
          "output_type": "execute_result",
          "data": {
            "text/plain": [
              "tensor([[0.3171]])"
            ]
          },
          "metadata": {
            "tags": []
          },
          "execution_count": 8
        }
      ]
    },
    {
      "cell_type": "code",
      "metadata": {
        "colab": {
          "base_uri": "https://localhost:8080/"
        },
        "id": "OClHE9pIzCAq",
        "outputId": "e5a216ad-36e4-4fbe-b429-910f1611db5c"
      },
      "source": [
        "import numpy as np\n",
        "\n",
        "a = np.random.rand(4,3)\n",
        "print(a)\n",
        "b=torch.from_numpy(a)\n",
        "print(b)\n",
        "c=b.numpy()\n",
        "print(c)"
      ],
      "execution_count": 10,
      "outputs": [
        {
          "output_type": "stream",
          "text": [
            "[[0.63864817 0.0269188  0.53403834]\n",
            " [0.92696584 0.05535916 0.35162925]\n",
            " [0.66144361 0.04230353 0.15791612]\n",
            " [0.39871409 0.81884864 0.06801834]]\n",
            "tensor([[0.6386, 0.0269, 0.5340],\n",
            "        [0.9270, 0.0554, 0.3516],\n",
            "        [0.6614, 0.0423, 0.1579],\n",
            "        [0.3987, 0.8188, 0.0680]], dtype=torch.float64)\n",
            "[[0.63864817 0.0269188  0.53403834]\n",
            " [0.92696584 0.05535916 0.35162925]\n",
            " [0.66144361 0.04230353 0.15791612]\n",
            " [0.39871409 0.81884864 0.06801834]]\n"
          ],
          "name": "stdout"
        }
      ]
    }
  ]
}