{
  "nbformat": 4,
  "nbformat_minor": 0,
  "metadata": {
    "colab": {
      "name": "training_network_digits.ipynb",
      "provenance": [],
      "authorship_tag": "ABX9TyNIPrnMrD14pMW63YRk3u/x",
      "include_colab_link": true
    },
    "kernelspec": {
      "name": "python3",
      "display_name": "Python 3"
    },
    "language_info": {
      "name": "python"
    }
  },
  "cells": [
    {
      "cell_type": "markdown",
      "metadata": {
        "id": "view-in-github",
        "colab_type": "text"
      },
      "source": [
        "<a href=\"https://colab.research.google.com/github/tanyagupta1/Machine-Learning/blob/main/DL/pytorch/training_network_digits.ipynb\" target=\"_parent\"><img src=\"https://colab.research.google.com/assets/colab-badge.svg\" alt=\"Open In Colab\"/></a>"
      ]
    },
    {
      "cell_type": "code",
      "metadata": {
        "id": "N-hq7mls0HkK"
      },
      "source": [
        "import torch\n",
        "from torchvision import datasets,transforms\n",
        "\n",
        "transform = transforms.Compose([transforms.ToTensor(),transforms.Normalize([0.5],[0.5]),])\n",
        "trainset = datasets.MNIST('MNIST_data/',download=True,train=True,transform=transform)\n",
        "trainloader=torch.utils.data.DataLoader(trainset,batch_size=64,shuffle=True)"
      ],
      "execution_count": 8,
      "outputs": []
    },
    {
      "cell_type": "code",
      "metadata": {
        "colab": {
          "base_uri": "https://localhost:8080/"
        },
        "id": "3zJK-quD2kv9",
        "outputId": "2a9694a0-743d-401f-d3d9-a2906ad01e81"
      },
      "source": [
        "dataiter = iter(trainloader)\n",
        "images,labels=dataiter.next()\n",
        "print(type(images))\n",
        "print(images.shape,labels.shape)"
      ],
      "execution_count": 9,
      "outputs": [
        {
          "output_type": "stream",
          "text": [
            "<class 'torch.Tensor'>\n",
            "torch.Size([64, 1, 28, 28]) torch.Size([64])\n"
          ],
          "name": "stdout"
        }
      ]
    },
    {
      "cell_type": "code",
      "metadata": {
        "colab": {
          "base_uri": "https://localhost:8080/",
          "height": 282
        },
        "id": "oYm1dT2x_DYl",
        "outputId": "a891f374-5020-4b08-e0b0-2082880fbec6"
      },
      "source": [
        "import matplotlib.pyplot as plt\n",
        "plt.imshow(images[1].numpy().squeeze())"
      ],
      "execution_count": 12,
      "outputs": [
        {
          "output_type": "execute_result",
          "data": {
            "text/plain": [
              "<matplotlib.image.AxesImage at 0x7fae39c1bf50>"
            ]
          },
          "metadata": {
            "tags": []
          },
          "execution_count": 12
        },
        {
          "output_type": "display_data",
          "data": {
            "image/png": "[encoded data removed]",
            "text/plain": [
              "<Figure size 432x288 with 1 Axes>"
            ]
          },
          "metadata": {
            "tags": [],
            "needs_background": "light"
          }
        }
      ]
    },
    {
      "cell_type": "code",
      "metadata": {
        "id": "vh0ytMAG_0da"
      },
      "source": [
        "images=images.view(64,784)"
      ],
      "execution_count": 10,
      "outputs": []
    },
    {
      "cell_type": "code",
      "metadata": {
        "colab": {
          "base_uri": "https://localhost:8080/"
        },
        "id": "9nA3Wz2IACrN",
        "outputId": "40f9c2b3-d2bf-4842-cea2-3ef495a1b833"
      },
      "source": [
        "def activation(x):\n",
        "  return 1/(1+torch.exp(-x))\n",
        "input_n=784\n",
        "hidden_n=256\n",
        "output_n=10\n",
        "W1=torch.randn((input_n,hidden_n))\n",
        "W2=torch.randn((hidden_n,output_n))\n",
        "B1=torch.randn((1,hidden_n))\n",
        "B2=torch.randn((1,output_n))\n",
        "int1=activation(torch.matmul(images,W1)+B1)\n",
        "ans = torch.matmul(int1,W2)+B2\n",
        "print(ans.shape)"
      ],
      "execution_count": 12,
      "outputs": [
        {
          "output_type": "stream",
          "text": [
            "torch.Size([64, 10])\n"
          ],
          "name": "stdout"
        }
      ]
    },
    {
      "cell_type": "code",
      "metadata": {
        "colab": {
          "base_uri": "https://localhost:8080/"
        },
        "id": "9xo9Md4u8jjl",
        "outputId": "9fdab716-85ad-4ab7-b189-67850d8f7423"
      },
      "source": [
        "def softmax(x):\n",
        "  return torch.exp(x)/torch.sum(torch.exp(x),dim=1).view(-1,1)\n",
        "output=softmax(ans)\n",
        "print(output.shape)\n",
        "print(torch.sum(output,dim=1))"
      ],
      "execution_count": 15,
      "outputs": [
        {
          "output_type": "stream",
          "text": [
            "torch.Size([64, 10])\n",
            "tensor([1.0000, 1.0000, 1.0000, 1.0000, 1.0000, 1.0000, 1.0000, 1.0000, 1.0000,\n",
            "        1.0000, 1.0000, 1.0000, 1.0000, 1.0000, 1.0000, 1.0000, 1.0000, 1.0000,\n",
            "        1.0000, 1.0000, 1.0000, 1.0000, 1.0000, 1.0000, 1.0000, 1.0000, 1.0000,\n",
            "        1.0000, 1.0000, 1.0000, 1.0000, 1.0000, 1.0000, 1.0000, 1.0000, 1.0000,\n",
            "        1.0000, 1.0000, 1.0000, 1.0000, 1.0000, 1.0000, 1.0000, 1.0000, 1.0000,\n",
            "        1.0000, 1.0000, 1.0000, 1.0000, 1.0000, 1.0000, 1.0000, 1.0000, 1.0000,\n",
            "        1.0000, 1.0000, 1.0000, 1.0000, 1.0000, 1.0000, 1.0000, 1.0000, 1.0000,\n",
            "        1.0000])\n"
          ],
          "name": "stdout"
        }
      ]
    },
    {
      "cell_type": "code",
      "metadata": {
        "id": "zigwfdRv-fOZ"
      },
      "source": [
        "from torch import nn"
      ],
      "execution_count": 16,
      "outputs": []
    },
    {
      "cell_type": "code",
      "metadata": {
        "id": "l2lyjLuC-odW"
      },
      "source": [
        "import torch.nn.functional as F\n",
        "class Network(nn.Module):\n",
        "  def __init__(self):\n",
        "    super().__init__()\n",
        "\n",
        "    self.hidden=nn.Linear(784,256)\n",
        "    self.output=nn.Linear(256,10)\n",
        "    self.sigmoid=nn.Sigmoid()\n",
        "    self.softmax=nn.Softmax(dim=1)\n",
        "\n",
        "  def forward(self,x):\n",
        "    x=self.hidden(x)\n",
        "    x=self.sigmoid(x)\n",
        "    x=self.output(x)\n",
        "    x=self.softmax(x)\n",
        "    return x\n",
        "\n",
        "  def forward_way_2(self,x): #another way of forward pass\n",
        "    x=F.sigmoid(self.hidden(x))\n",
        "    x=F.softmax(self.output(x),dim=1)\n",
        "    return x"
      ],
      "execution_count": 21,
      "outputs": []
    },
    {
      "cell_type": "code",
      "metadata": {
        "colab": {
          "base_uri": "https://localhost:8080/"
        },
        "id": "LZjLxfZT_xh2",
        "outputId": "c7648cb7-6924-48cf-e871-2072b5b8f0fa"
      },
      "source": [
        "model=Network()\n",
        "model"
      ],
      "execution_count": 22,
      "outputs": [
        {
          "output_type": "execute_result",
          "data": {
            "text/plain": [
              "Network(\n",
              "  (hidden): Linear(in_features=784, out_features=256, bias=True)\n",
              "  (output): Linear(in_features=256, out_features=10, bias=True)\n",
              "  (sigmoid): Sigmoid()\n",
              "  (softmax): Softmax(dim=1)\n",
              ")"
            ]
          },
          "metadata": {
            "tags": []
          },
          "execution_count": 22
        }
      ]
    },
    {
      "cell_type": "code",
      "metadata": {
        "id": "4s95IUP3BB3z"
      },
      "source": [
        "class testNetwork(nn.Module):\n",
        "  def __init__(self):\n",
        "    super().__init__()\n",
        "    self.hidden_1=nn.Linear(784,128)\n",
        "    self.hidden_2=nn.Linear(128,64)\n",
        "    self.output=nn.Linear(64,10)\n",
        "    self.relu=nn.ReLU()\n",
        "    self.softmax=nn.Softmax(dim=1)\n",
        "\n",
        "  def forward(self,x):\n",
        "    x=self.hidden_1(x)\n",
        "    x=self.relu(x)\n",
        "    x=self.hidden_2(x)\n",
        "    x=self.relu(x)\n",
        "    x=self.output(x)\n",
        "    x=self.softmax(x)\n",
        "    return x"
      ],
      "execution_count": 26,
      "outputs": []
    },
    {
      "cell_type": "code",
      "metadata": {
        "colab": {
          "base_uri": "https://localhost:8080/"
        },
        "id": "5WOBlmamDHHt",
        "outputId": "17fa4dea-2f17-4e7f-decd-e473bc775641"
      },
      "source": [
        "M=testNetwork()\n",
        "x=M.forward(images)\n",
        "print(x.shape)"
      ],
      "execution_count": 27,
      "outputs": [
        {
          "output_type": "stream",
          "text": [
            "torch.Size([64, 10])\n"
          ],
          "name": "stdout"
        }
      ]
    },
    {
      "cell_type": "code",
      "metadata": {
        "colab": {
          "base_uri": "https://localhost:8080/"
        },
        "id": "r9hOLxV8DiMJ",
        "outputId": "29bf0607-2122-4c3f-eb72-6939314d2fe0"
      },
      "source": [
        "print(x[0])"
      ],
      "execution_count": 28,
      "outputs": [
        {
          "output_type": "stream",
          "text": [
            "tensor([0.1104, 0.0890, 0.0883, 0.1047, 0.1000, 0.1069, 0.0777, 0.1226, 0.1029,\n",
            "        0.0975], grad_fn=<SelectBackward>)\n"
          ],
          "name": "stdout"
        }
      ]
    },
    {
      "cell_type": "code",
      "metadata": {
        "colab": {
          "base_uri": "https://localhost:8080/"
        },
        "id": "0eFO9BcdFeJR",
        "outputId": "329c1b5d-2679-4a65-dfe8-278d0c471f31"
      },
      "source": [
        "model=nn.Sequential(nn.Linear(784,128),\n",
        "    nn.ReLU(),\n",
        "    nn.Linear(128,64),\n",
        "    nn.ReLU(),\n",
        "    nn.Linear(64,10))\n",
        "criterion=nn.CrossEntropyLoss()\n",
        "images,labels=(iter(trainloader)).next()\n",
        "images=images.view(images.shape[0],-1)\n",
        "logits=model(images)\n",
        "loss=criterion(logits,labels)\n",
        "loss"
      ],
      "execution_count": 29,
      "outputs": [
        {
          "output_type": "execute_result",
          "data": {
            "text/plain": [
              "tensor(2.3089, grad_fn=<NllLossBackward>)"
            ]
          },
          "metadata": {
            "tags": []
          },
          "execution_count": 29
        }
      ]
    },
    {
      "cell_type": "code",
      "metadata": {
        "colab": {
          "base_uri": "https://localhost:8080/"
        },
        "id": "lI2-gmWrHjDH",
        "outputId": "79416be1-87ef-4402-8207-b3a13a19bf21"
      },
      "source": [
        "model=nn.Sequential(nn.Linear(784,128),\n",
        "    nn.ReLU(),\n",
        "    nn.Linear(128,64),\n",
        "    nn.ReLU(),\n",
        "    nn.Linear(64,10),\n",
        "    nn.LogSoftmax(dim=1))\n",
        "criterion=nn.NLLLoss()\n",
        "\n",
        "images,labels=(iter(trainloader)).next()\n",
        "images=images.view(images.shape[0],-1)\n",
        "logits=model(images)\n",
        "loss=criterion(logits,labels)\n",
        "loss"
      ],
      "execution_count": 34,
      "outputs": [
        {
          "output_type": "execute_result",
          "data": {
            "text/plain": [
              "tensor(2.3087, grad_fn=<NllLossBackward>)"
            ]
          },
          "metadata": {
            "tags": []
          },
          "execution_count": 34
        }
      ]
    },
    {
      "cell_type": "code",
      "metadata": {
        "id": "VRpZDwzDafIQ"
      },
      "source": [
        "from torch import optim\n",
        "model=nn.Sequential(nn.Linear(784,128),\n",
        "    nn.ReLU(),\n",
        "    nn.Linear(128,64),\n",
        "    nn.ReLU(),\n",
        "    nn.Linear(64,10),\n",
        "    nn.LogSoftmax(dim=1))\n",
        "criterion=nn.NLLLoss()\n",
        "optimizer = optim.SGD(model.parameters(),lr=0.003)"
      ],
      "execution_count": 37,
      "outputs": []
    },
    {
      "cell_type": "code",
      "metadata": {
        "colab": {
          "base_uri": "https://localhost:8080/"
        },
        "id": "S31fy0xSa8x3",
        "outputId": "bc0289ae-3230-46a8-c034-f4633decb26f"
      },
      "source": [
        "epochs=5\n",
        "for i in range(epochs):\n",
        "  running_loss=0\n",
        "  for images,labels in trainloader:\n",
        "    images=images.view(images.shape[0],-1)\n",
        "    optimizer.zero_grad()\n",
        "    output=model.forward(images)\n",
        "    loss=criterion(output,labels)\n",
        "    loss.backward()\n",
        "    optimizer.step()\n",
        "    running_loss+=loss.item()\n",
        "  else:\n",
        "    print(running_loss/len(trainloader))\n"
      ],
      "execution_count": 39,
      "outputs": [
        {
          "output_type": "stream",
          "text": [
            "1.9466808527263242\n",
            "0.8803921684718081\n",
            "0.5248906143756309\n",
            "0.4280760739244886\n",
            "0.3838130761025303\n"
          ],
          "name": "stdout"
        }
      ]
    }
  ]
}