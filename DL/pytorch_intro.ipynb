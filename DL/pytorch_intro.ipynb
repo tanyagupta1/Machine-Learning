{
  "nbformat": 4,
  "nbformat_minor": 0,
  "metadata": {
    "colab": {
      "name": "pytorch_intro.ipynb",
      "provenance": [],
      "authorship_tag": "ABX9TyMRLey58MpmggAde2LHJx1m",
      "include_colab_link": true
    },
    "kernelspec": {
      "name": "python3",
      "display_name": "Python 3"
    },
    "language_info": {
      "name": "python"
    }
  },
  "cells": [
    {
      "cell_type": "markdown",
      "metadata": {
        "id": "view-in-github",
        "colab_type": "text"
      },
      "source": [
        "<a href=\"https://colab.research.google.com/github/tanyagupta1/Machine-Learning/blob/main/DL/pytorch_intro.ipynb\" target=\"_parent\"><img src=\"https://colab.research.google.com/assets/colab-badge.svg\" alt=\"Open In Colab\"/></a>"
      ]
    },
    {
      "cell_type": "code",
      "metadata": {
        "id": "cuF-4vA9Jbm4"
      },
      "source": [
        "import torch"
      ],
      "execution_count": 1,
      "outputs": []
    },
    {
      "cell_type": "code",
      "metadata": {
        "colab": {
          "base_uri": "https://localhost:8080/"
        },
        "id": "YGBFP1iBS5qv",
        "outputId": "8372125e-f3f7-45bd-849c-8351f4ee0ee0"
      },
      "source": [
        "x=torch.zeros(2,2)\n",
        "y=torch.rand(2)\n",
        "z=torch.rand(1,2)\n",
        "print(x)\n",
        "print(y)\n",
        "print(z)\n",
        "a=torch.ones(2,2,dtype=torch.float16)\n",
        "print(a.size(),a.dtype)\n",
        "a=torch.tensor([1,2,3],dtype=torch.float32)\n",
        "print(a)\n",
        "b=torch.ones(3)\n",
        "print(a+b)\n",
        "c=torch.add(a,b)\n",
        "print(c)\n",
        "a.add_(b)\n",
        "print(a)"
      ],
      "execution_count": 14,
      "outputs": [
        {
          "output_type": "stream",
          "text": [
            "tensor([[0., 0.],\n",
            "        [0., 0.]])\n",
            "tensor([0.4831, 0.6635])\n",
            "tensor([[0.0312, 0.0704]])\n",
            "torch.Size([2, 2]) torch.float16\n",
            "tensor([1., 2., 3.])\n",
            "tensor([2., 3., 4.])\n",
            "tensor([2., 3., 4.])\n",
            "tensor([2., 3., 4.])\n"
          ],
          "name": "stdout"
        }
      ]
    },
    {
      "cell_type": "code",
      "metadata": {
        "colab": {
          "base_uri": "https://localhost:8080/"
        },
        "id": "47NavNpoWJBQ",
        "outputId": "18b0d43c-cb57-4b84-b5bb-fcd40dff7a89"
      },
      "source": [
        "a=torch.rand(4,3)\n",
        "print(a)\n",
        "b=a[:,0]\n",
        "print(b)\n",
        "reshaped_a = a.view(12) #for reshaping\n",
        "a_2=a.view(-1,6) #automatically determines size\n",
        "print(reshaped_a)\n",
        "print(a_2)"
      ],
      "execution_count": 18,
      "outputs": [
        {
          "output_type": "stream",
          "text": [
            "tensor([[0.2100, 0.0718, 0.4093],\n",
            "        [0.4917, 0.6315, 0.7892],\n",
            "        [0.3900, 0.4762, 0.4546],\n",
            "        [0.3871, 0.7599, 0.9925]])\n",
            "tensor([0.2100, 0.4917, 0.3900, 0.3871])\n",
            "tensor([0.2100, 0.0718, 0.4093, 0.4917, 0.6315, 0.7892, 0.3900, 0.4762, 0.4546,\n",
            "        0.3871, 0.7599, 0.9925])\n",
            "tensor([[0.2100, 0.0718, 0.4093, 0.4917, 0.6315, 0.7892],\n",
            "        [0.3900, 0.4762, 0.4546, 0.3871, 0.7599, 0.9925]])\n"
          ],
          "name": "stdout"
        }
      ]
    },
    {
      "cell_type": "code",
      "metadata": {
        "id": "6czP63FsX4Eo"
      },
      "source": [
        ""
      ],
      "execution_count": null,
      "outputs": []
    },
    {
      "cell_type": "code",
      "metadata": {
        "colab": {
          "base_uri": "https://localhost:8080/"
        },
        "id": "g96Wu5BhX4Lj",
        "outputId": "3bc6fd99-d6ad-42f7-d675-749ca64415f4"
      },
      "source": [
        "#tensor to numpy\n",
        "import numpy as np\n",
        "a=torch.ones(5)\n",
        "b=a.numpy()\n",
        "print(type(b))\n",
        "c=torch.from_numpy(b)\n",
        "print(type(c))"
      ],
      "execution_count": 20,
      "outputs": [
        {
          "output_type": "stream",
          "text": [
            "<class 'numpy.ndarray'>\n",
            "<class 'torch.Tensor'>\n"
          ],
          "name": "stdout"
        }
      ]
    }
  ]
}