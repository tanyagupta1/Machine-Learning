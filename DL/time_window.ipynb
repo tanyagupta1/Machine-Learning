{
  "nbformat": 4,
  "nbformat_minor": 0,
  "metadata": {
    "colab": {
      "name": "time_window.ipynb",
      "provenance": [],
      "authorship_tag": "ABX9TyP4bfenIMU7FsVLxeKlyp/o",
      "include_colab_link": true
    },
    "kernelspec": {
      "name": "python3",
      "display_name": "Python 3"
    },
    "language_info": {
      "name": "python"
    }
  },
  "cells": [
    {
      "cell_type": "markdown",
      "metadata": {
        "id": "view-in-github",
        "colab_type": "text"
      },
      "source": [
        "<a href=\"https://colab.research.google.com/github/tanyagupta1/Machine-Learning/blob/main/DL/time_window.ipynb\" target=\"_parent\"><img src=\"https://colab.research.google.com/assets/colab-badge.svg\" alt=\"Open In Colab\"/></a>"
      ]
    },
    {
      "cell_type": "code",
      "metadata": {
        "id": "C73d0W7NLbX5"
      },
      "source": [
        "import tensorflow as tf"
      ],
      "execution_count": 2,
      "outputs": []
    },
    {
      "cell_type": "code",
      "metadata": {
        "id": "hMNUphpAO17C"
      },
      "source": [
        "dataset=tf.data.Dataset.range(10)\n",
        "# for val in dataset:\n",
        "#   print(val.numpy())\n",
        "dataset=dataset.window(5,shift=1,drop_remainder=True)"
      ],
      "execution_count": 24,
      "outputs": []
    },
    {
      "cell_type": "code",
      "metadata": {
        "colab": {
          "base_uri": "https://localhost:8080/"
        },
        "id": "BD6Ah94APUsw",
        "outputId": "1434580c-8886-4071-fa35-87cdd557ce8c"
      },
      "source": [
        "for win in dataset:\n",
        "  # print(win.numpy())\n",
        "  for i in win:\n",
        "    print(i.numpy(),end=\" \")\n",
        "  print()"
      ],
      "execution_count": 25,
      "outputs": [
        {
          "output_type": "stream",
          "text": [
            "0 1 2 3 4 \n",
            "1 2 3 4 5 \n",
            "2 3 4 5 6 \n",
            "3 4 5 6 7 \n",
            "4 5 6 7 8 \n",
            "5 6 7 8 9 \n"
          ],
          "name": "stdout"
        }
      ]
    },
    {
      "cell_type": "code",
      "metadata": {
        "colab": {
          "base_uri": "https://localhost:8080/"
        },
        "id": "l6NsWw3NTNCn",
        "outputId": "347f0e3c-1a09-4ea9-a31c-9f8f6b0e9a3a"
      },
      "source": [
        "dataset=dataset.flat_map(lambda win: win.batch(5))\n",
        "dataset=dataset.map(lambda win:(win[:-1],win[-1:]))\n",
        "dataset = dataset.shuffle(buffer_size=10)\n",
        "dataset = dataset.batch(2).prefetch(1)\n",
        "for x,y in dataset:\n",
        "  print(x.numpy(),y.numpy())"
      ],
      "execution_count": 26,
      "outputs": [
        {
          "output_type": "stream",
          "text": [
            "[[0 1 2 3]\n",
            " [2 3 4 5]] [[4]\n",
            " [6]]\n",
            "[[5 6 7 8]\n",
            " [1 2 3 4]] [[9]\n",
            " [5]]\n",
            "[[4 5 6 7]\n",
            " [3 4 5 6]] [[8]\n",
            " [7]]\n"
          ],
          "name": "stdout"
        }
      ]
    },
    {
      "cell_type": "code",
      "metadata": {
        "id": "wN85xiEJUKt-"
      },
      "source": [
        "def window_dataset(series,window_size,batch_size=32,shuffle_buffer=1000):\n",
        "  dataset=tf.data.Dataset.from_tensor_slices(series)\n",
        "  dataset=dataset.window(window_size+1,shift=1,drop_remainder=True)\n",
        "  dataset=dataset.flat_map(lambda win:win.batch(window_size+1))\n",
        "  dataset=dataset.shuffle(shuffle_buffer)\n",
        "  dataset=dataset.map(lambda win:(win[:-1],win[-1:]))\n",
        "  dataset=dataset.batch(batch_size).prefetch(1)\n",
        "  return dataset"
      ],
      "execution_count": 27,
      "outputs": []
    }
  ]
}