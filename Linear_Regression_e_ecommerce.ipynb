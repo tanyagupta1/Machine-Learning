{
 "cells": [
  {
   "cell_type": "code",
   "execution_count": 3,
   "id": "annoying-expense",
   "metadata": {},
   "outputs": [],
   "source": [
    "from pyspark.sql import SparkSession\n",
    "spark=SparkSession.builder.appName('Customers').getOrCreate()"
   ]
  },
  {
   "cell_type": "code",
   "execution_count": 4,
   "id": "weekly-gauge",
   "metadata": {},
   "outputs": [],
   "source": [
    "from pyspark.ml.regression import LinearRegression\n",
    "dataset=spark.read.csv('Ecommerce_Customers.csv',inferSchema=True,header=True)"
   ]
  },
  {
   "cell_type": "code",
   "execution_count": 9,
   "id": "ultimate-offer",
   "metadata": {},
   "outputs": [
    {
     "name": "stdout",
     "output_type": "stream",
     "text": [
      "+--------------------+--------------------+------------------+-----------+---------------+--------------------+-------------------+\n",
      "|               Email|             Address|Avg Session Length|Time on App|Time on Website|Length of Membership|Yearly Amount Spent|\n",
      "+--------------------+--------------------+------------------+-----------+---------------+--------------------+-------------------+\n",
      "|mstephenson@ferna...|835 Frank TunnelW...|       34.49726773|12.65565115|    39.57766802|         4.082620633|         587.951054|\n",
      "|   hduke@hotmail.com|4547 Archer Commo...|       31.92627203|11.10946073|    37.26895887|         2.664034182|        392.2049334|\n",
      "|    pallen@yahoo.com|24645 Valerie Uni...|       33.00091476|11.33027806|    37.11059744|         4.104543202|        487.5475049|\n",
      "|riverarebecca@gma...|1414 David Throug...|       34.30555663|13.71751367|    36.72128268|         3.120178783|         581.852344|\n",
      "|mstephens@davidso...|14023 Rodriguez P...|       33.33067252|12.79518855|     37.5366533|         4.446308318|         599.406092|\n",
      "+--------------------+--------------------+------------------+-----------+---------------+--------------------+-------------------+\n",
      "only showing top 5 rows\n",
      "\n",
      "root\n",
      " |-- Email: string (nullable = true)\n",
      " |-- Address: string (nullable = true)\n",
      " |-- Avg Session Length: double (nullable = true)\n",
      " |-- Time on App: double (nullable = true)\n",
      " |-- Time on Website: double (nullable = true)\n",
      " |-- Length of Membership: double (nullable = true)\n",
      " |-- Yearly Amount Spent: double (nullable = true)\n",
      "\n"
     ]
    }
   ],
   "source": [
    "dataset\n",
    "dataset.show(5)\n",
    "dataset.printSchema()"
   ]
  },
  {
   "cell_type": "code",
   "execution_count": 10,
   "id": "artificial-floating",
   "metadata": {},
   "outputs": [],
   "source": [
    "from pyspark.ml.linalg import Vectors\n",
    "from pyspark.ml.feature import VectorAssembler"
   ]
  },
  {
   "cell_type": "code",
   "execution_count": 24,
   "id": "jewish-findings",
   "metadata": {
    "scrolled": true
   },
   "outputs": [],
   "source": [
    "featureassembler=VectorAssembler(inputCols=[\"Avg Session Length\",\"Time on App\",\"Time on Website\",\"Length of Membership\"],outputCol='Independent Col')"
   ]
  },
  {
   "cell_type": "code",
   "execution_count": 25,
   "id": "infinite-strain",
   "metadata": {},
   "outputs": [],
   "source": [
    "output=featureassembler.transform(dataset)"
   ]
  },
  {
   "cell_type": "code",
   "execution_count": 26,
   "id": "single-clarity",
   "metadata": {},
   "outputs": [
    {
     "name": "stdout",
     "output_type": "stream",
     "text": [
      "+--------------------+\n",
      "|     Independent Col|\n",
      "+--------------------+\n",
      "|[34.49726773,12.6...|\n",
      "|[31.92627203,11.1...|\n",
      "|[33.00091476,11.3...|\n",
      "|[34.30555663,13.7...|\n",
      "|[33.33067252,12.7...|\n",
      "|[33.87103788,12.0...|\n",
      "|[32.0215955,11.36...|\n",
      "|[32.73914294,12.3...|\n",
      "|[33.9877729,13.38...|\n",
      "|[31.93654862,11.8...|\n",
      "|[33.99257277,13.3...|\n",
      "|[33.87936082,11.5...|\n",
      "|[29.53242897,10.9...|\n",
      "|[33.19033404,12.9...|\n",
      "|[32.38797585,13.1...|\n",
      "|[30.73772037,12.6...|\n",
      "|[32.1253869,11.73...|\n",
      "|[32.33889932,12.0...|\n",
      "|[32.18781205,14.7...|\n",
      "|[32.61785606,13.9...|\n",
      "+--------------------+\n",
      "only showing top 20 rows\n",
      "\n"
     ]
    }
   ],
   "source": [
    "output.select('Independent Col').show()"
   ]
  },
  {
   "cell_type": "code",
   "execution_count": 30,
   "id": "fixed-filling",
   "metadata": {},
   "outputs": [],
   "source": [
    "finalized_data=output.select(\"Independent Col\",\"Yearly Amount Spent\")"
   ]
  },
  {
   "cell_type": "code",
   "execution_count": 31,
   "id": "identical-heading",
   "metadata": {
    "scrolled": true
   },
   "outputs": [
    {
     "name": "stdout",
     "output_type": "stream",
     "text": [
      "+--------------------+-------------------+------------------+\n",
      "|     Independent Col|Yearly Amount Spent|        prediction|\n",
      "+--------------------+-------------------+------------------+\n",
      "|[30.4925367,11.56...|        282.4712457| 289.1553223274848|\n",
      "|[30.57436368,11.3...|        442.0644138| 443.4546366556442|\n",
      "|[30.83643267,13.1...|        467.5019004| 473.0281666830865|\n",
      "|[31.06621816,11.7...|        448.9332932|463.14594970437906|\n",
      "|[31.1695068,13.97...|        427.3565308|417.77869640008635|\n",
      "|[31.30919264,11.9...|        432.7207178|430.86168417466206|\n",
      "|[31.36621217,11.1...|        430.5888826|427.81806131579447|\n",
      "|[31.51473786,12.5...|         489.812488|495.29372527398596|\n",
      "|[31.57613197,12.5...|         541.226584| 543.9477504753058|\n",
      "|[31.62536013,13.1...|        376.3369008| 381.1783027980175|\n",
      "|[31.65480968,13.0...|        475.2634237|468.89002472515244|\n",
      "|[31.76561882,12.4...|        496.5540816|501.52031391551213|\n",
      "|[31.8530748,12.14...|        459.2851235| 462.1341876510851|\n",
      "|[31.86483255,13.4...|        439.8912805| 450.4861241899773|\n",
      "|[31.87455169,10.2...|        392.2852442|398.92276135091697|\n",
      "|[31.90485713,12.2...|        473.9498574| 491.6706150810935|\n",
      "|[32.11511907,11.9...|        350.0582002|341.80143073455133|\n",
      "|[32.13386241,11.6...|        443.4418601|448.03727516513413|\n",
      "|[32.17909997,11.1...|        451.5756852| 445.4635757959695|\n",
      "|[32.18984473,11.3...|        533.3965538| 530.5885211457594|\n",
      "|[32.19249883,13.3...|         616.660286| 620.0733964912808|\n",
      "|[32.20079864,12.2...|        478.8853913| 473.1305576869411|\n",
      "|[32.20465465,12.4...|         478.584286| 478.7040582978409|\n",
      "|[32.21552742,12.2...|         438.417742| 445.9188604485332|\n",
      "|[32.24635,11.3055...|        327.3779526|337.35504244711046|\n",
      "|[32.26200311,11.6...|        442.3631174| 445.1803822065476|\n",
      "|[32.27184828,13.4...|          511.97986|507.16435963903655|\n",
      "|[32.28312306,10.9...|        524.6379646| 512.7287094246715|\n",
      "|[32.28866691,12.0...|        507.3900618|  502.304115881336|\n",
      "|[32.3025531,11.97...|        478.6009159|477.55780698608214|\n",
      "|[32.31985797,12.4...|        482.8309859| 475.3833016037768|\n",
      "|[32.33889932,12.0...|        407.7045475|411.18637752942436|\n",
      "|[32.36312129,12.4...|        570.6300981| 567.3835632539715|\n",
      "|[32.40237102,10.8...|        338.3198626| 337.5573693322053|\n",
      "|[32.43083858,13.8...|        557.6082621| 569.1672116449879|\n",
      "|[32.46121245,13.2...|        543.3401663| 553.0413836975483|\n",
      "|[32.49541877,12.9...|        368.6547849| 376.6164758341731|\n",
      "|[32.49839307,13.4...|         518.064558| 515.7864523852315|\n",
      "|[32.51819681,11.5...|        424.7287739| 433.0952764577089|\n",
      "|[32.54345917,13.3...|        537.2150527| 539.7202266142019|\n",
      "+--------------------+-------------------+------------------+\n",
      "only showing top 40 rows\n",
      "\n"
     ]
    }
   ],
   "source": [
    "train_data,test_data=finalized_data.randomSplit([0.75,0.25])\n",
    "regressor=LinearRegression(featuresCol='Independent Col', labelCol='Yearly Amount Spent')\n",
    "regressor=regressor.fit(train_data)\n",
    "pred_results=regressor.evaluate(test_data)\n",
    "pred_results.predictions.show(40)"
   ]
  },
  {
   "cell_type": "code",
   "execution_count": null,
   "id": "liable-challenge",
   "metadata": {},
   "outputs": [],
   "source": []
  },
  {
   "cell_type": "code",
   "execution_count": null,
   "id": "exceptional-checklist",
   "metadata": {
    "scrolled": false
   },
   "outputs": [],
   "source": []
  },
  {
   "cell_type": "code",
   "execution_count": null,
   "id": "animated-irrigation",
   "metadata": {},
   "outputs": [],
   "source": []
  },
  {
   "cell_type": "code",
   "execution_count": null,
   "id": "hybrid-occasion",
   "metadata": {},
   "outputs": [],
   "source": []
  },
  {
   "cell_type": "markdown",
   "id": "offshore-casting",
   "metadata": {},
   "source": []
  },
  {
   "cell_type": "code",
   "execution_count": null,
   "id": "personal-ribbon",
   "metadata": {},
   "outputs": [],
   "source": []
  },
  {
   "cell_type": "code",
   "execution_count": null,
   "id": "dependent-deviation",
   "metadata": {},
   "outputs": [],
   "source": []
  },
  {
   "cell_type": "code",
   "execution_count": null,
   "id": "annual-malaysia",
   "metadata": {},
   "outputs": [],
   "source": []
  },
  {
   "cell_type": "code",
   "execution_count": null,
   "id": "incorrect-doctrine",
   "metadata": {},
   "outputs": [],
   "source": []
  }
 ],
 "metadata": {
  "kernelspec": {
   "display_name": "Python 3",
   "language": "python",
   "name": "python3"
  },
  "language_info": {
   "codemirror_mode": {
    "name": "ipython",
    "version": 3
   },
   "file_extension": ".py",
   "mimetype": "text/x-python",
   "name": "python",
   "nbconvert_exporter": "python",
   "pygments_lexer": "ipython3",
   "version": "3.8.5"
  }
 },
 "nbformat": 4,
 "nbformat_minor": 5
}
