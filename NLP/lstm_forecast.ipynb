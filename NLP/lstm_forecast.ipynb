{
  "nbformat": 4,
  "nbformat_minor": 0,
  "metadata": {
    "colab": {
      "name": "lstm_forecast.ipynb",
      "provenance": [],
      "authorship_tag": "ABX9TyPPBi60fv0l9kzAlwkomNQJ",
      "include_colab_link": true
    },
    "kernelspec": {
      "name": "python3",
      "display_name": "Python 3"
    },
    "language_info": {
      "name": "python"
    }
  },
  "cells": [
    {
      "cell_type": "markdown",
      "metadata": {
        "id": "view-in-github",
        "colab_type": "text"
      },
      "source": [
        "<a href=\"https://colab.research.google.com/github/tanyagupta1/Machine-Learning/blob/main/NLP/lstm_forecast.ipynb\" target=\"_parent\"><img src=\"https://colab.research.google.com/assets/colab-badge.svg\" alt=\"Open In Colab\"/></a>"
      ]
    },
    {
      "cell_type": "code",
      "metadata": {
        "id": "a976hImddks2"
      },
      "source": [
        "import tensorflow as tf\n",
        "from tensorflow.keras.preprocessing.sequence import pad_sequences"
      ],
      "execution_count": 2,
      "outputs": []
    },
    {
      "cell_type": "code",
      "metadata": {
        "id": "V3AlHrK4d3LP"
      },
      "source": [
        "!wget --no-check-certificate \\\n",
        "    https://drive.google.com/uc?id=13ySLC_ue6Umt9RJYSeM2t-V0kCv-4C-P -O /tmp/sentiment.csv"
      ],
      "execution_count": null,
      "outputs": []
    },
    {
      "cell_type": "code",
      "metadata": {
        "colab": {
          "base_uri": "https://localhost:8080/"
        },
        "id": "b76WUcrahQoP",
        "outputId": "af886fff-a052-40bc-d574-28b98b562aa4"
      },
      "source": [
        "import pandas as pd\n",
        "dataset=pd.read_csv('/tmp/sentiment.csv')\n",
        "sentences=dataset['text'].tolist()\n",
        "labels=dataset['sentiment'].tolist()\n",
        "print(sentences[0:2])\n",
        "print(labels[0:2])"
      ],
      "execution_count": 18,
      "outputs": [
        {
          "output_type": "stream",
          "text": [
            "['So there is no way for me to plug it in here in the US unless I go by a converter.', 'Good case Excellent value.']\n",
            "[0, 1]\n"
          ],
          "name": "stdout"
        }
      ]
    },
    {
      "cell_type": "code",
      "metadata": {
        "colab": {
          "base_uri": "https://localhost:8080/"
        },
        "id": "P7LOFRuiiA9p",
        "outputId": "a1eaac83-afdd-42a3-c572-86c255df9c97"
      },
      "source": [
        "import tensorflow_datasets as tfds\n",
        "vocab_size=1000\n",
        "tokenizer=tfds.deprecated.text.SubwordTextEncoder.build_from_corpus(sentences,vocab_size,max_subword_length=5)\n",
        "tokenizer.vocab_size"
      ],
      "execution_count": 19,
      "outputs": [
        {
          "output_type": "execute_result",
          "data": {
            "text/plain": [
              "999"
            ]
          },
          "metadata": {
            "tags": []
          },
          "execution_count": 19
        }
      ]
    },
    {
      "cell_type": "code",
      "metadata": {
        "colab": {
          "base_uri": "https://localhost:8080/"
        },
        "id": "dzLQRHVoi0BG",
        "outputId": "e6d02cdc-d86f-4473-92da-51ae112e9552"
      },
      "source": [
        "print(sentences[5])\n",
        "enc=tokenizer.encode(sentences[5])\n",
        "dec=[]\n",
        "for i in enc:\n",
        "  dec.append(tokenizer.decode([i]))\n",
        "print(dec)"
      ],
      "execution_count": 20,
      "outputs": [
        {
          "output_type": "stream",
          "text": [
            "I have to jiggle the plug to get it to line up right to get decent volume.\n",
            "['I ', 'have ', 'to ', 'j', 'ig', 'gl', 'e ', 'the ', 'pl', 'ug', ' ', 'to ', 'get ', 'it ', 'to ', 'li', 'ne ', 'up ', 'right', ' ', 'to ', 'get ', 'dec', 'ent ', 'vo', 'lu', 'me', '.']\n"
          ],
          "name": "stdout"
        }
      ]
    },
    {
      "cell_type": "code",
      "metadata": {
        "id": "WuWl2qkTkUuD"
      },
      "source": [
        "import numpy as np\n",
        "for i,sent in enumerate(sentences):\n",
        "  sentences[i]=tokenizer.encode(sentences[i])\n",
        "sequences_padded=pad_sequences(sentences,padding='post',truncating='post',maxlen=30)\n",
        "train_size=int(len(sentences)*0.8)\n",
        "train_seq=sequences_padded[0:train_size]\n",
        "test_seq=sequences_padded[train_size:]\n",
        "train_label=labels[0:train_size]\n",
        "test_label=labels[train_size:]"
      ],
      "execution_count": 21,
      "outputs": []
    },
    {
      "cell_type": "code",
      "metadata": {
        "id": "M-awYe82lYBm"
      },
      "source": [
        "train_label=np.array(train_label)\n",
        "test_label=np.array(test_label)"
      ],
      "execution_count": 22,
      "outputs": []
    },
    {
      "cell_type": "code",
      "metadata": {
        "id": "11cT76QwlncH"
      },
      "source": [
        "embed_dim=16\n",
        "vocab_size=1000\n",
        "maxlen=30\n",
        "model=tf.keras.Sequential([\n",
        "                           tf.keras.layers.Embedding(vocab_size,embed_dim,input_length=maxlen),\n",
        "                           tf.keras.layers.GlobalAveragePooling1D(),\n",
        "                           tf.keras.layers.Dense(6,activation='relu'),\n",
        "                           tf.keras.layers.Dense(1,activation='sigmoid')\n",
        "])"
      ],
      "execution_count": 25,
      "outputs": []
    },
    {
      "cell_type": "code",
      "metadata": {
        "id": "FF1Bw0sfmdxl"
      },
      "source": [
        "model.compile(loss='binary_crossentropy',optimizer='adam',metrics=['accuracy'])\n",
        "history=model.fit(train_seq,train_label,epochs=30,validation_data=(test_seq,test_label))"
      ],
      "execution_count": null,
      "outputs": []
    },
    {
      "cell_type": "code",
      "metadata": {
        "colab": {
          "base_uri": "https://localhost:8080/",
          "height": 541
        },
        "id": "uqWv9nDrplHE",
        "outputId": "a1feba15-2ca9-4fdb-b379-a86a0e7705e1"
      },
      "source": [
        "import matplotlib.pyplot as plt\n",
        "\n",
        "def plot_graph(history,string):\n",
        "  plt.plot(history.history[string])\n",
        "  plt.plot(history.history['val_'+string])\n",
        "  plt.xlabel('Epochs')\n",
        "  plt.ylabel(string)\n",
        "  plt.show()\n",
        "plot_graph(history,'accuracy')\n",
        "plot_graph(history,'loss')"
      ],
      "execution_count": 28,
      "outputs": [
        {
          "output_type": "display_data",
          "data": {
            "image/png": "[encoded data removed]",
            "text/plain": [
              "<Figure size 432x288 with 1 Axes>"
            ]
          },
          "metadata": {
            "tags": [],
            "needs_background": "light"
          }
        },
        {
          "output_type": "display_data",
          "data": {
            "image/png": "[encoded data removed]",
            "text/plain": [
              "<Figure size 432x288 with 1 Axes>"
            ]
          },
          "metadata": {
            "tags": [],
            "needs_background": "light"
          }
        }
      ]
    },
    {
      "cell_type": "code",
      "metadata": {
        "id": "XicW514o2lh2"
      },
      "source": [
        "def predict_review(model, new_sentences, maxlen=100, show_padded_sequence=True ):\n",
        "  new_sequences = []\n",
        "  for i, frvw in enumerate(new_sentences):\n",
        "    new_sequences.append(tokenizer.encode(frvw))\n",
        "\n",
        "  trunc_type='post' \n",
        "  padding_type='post'\n",
        "  new_reviews_padded = pad_sequences(new_sequences, maxlen=100, \n",
        "                                 padding=padding_type, truncating=trunc_type)             \n",
        "\n",
        "  classes = model.predict(new_reviews_padded)\n",
        "\n",
        "  for x in range(len(new_sentences)):\n",
        "    if (show_padded_sequence):\n",
        "      print(new_reviews_padded[x])\n",
        "\n",
        "    print(new_sentences[x])\n",
        "    print(classes[x])\n"
      ],
      "execution_count": 33,
      "outputs": []
    },
    {
      "cell_type": "code",
      "metadata": {
        "id": "Qg-maex27KPW"
      },
      "source": [
        "# Use the model to predict some reviews   \n",
        "fake_reviews = [\"I love this phone\", \n",
        "                \"Everything was cold\",\n",
        "                \"Everything was hot exactly as I wanted\", \n",
        "                \"Everything was green\", \n",
        "                \"the host seated us immediately\",\n",
        "                \"they gave us free chocolate cake\", \n",
        "                \"we couldn't hear each other talk because of the shouting in the kitchen\"\n",
        "              ]\n",
        "\n",
        "predict_review(model, fake_reviews)\n"
      ],
      "execution_count": null,
      "outputs": []
    },
    {
      "cell_type": "code",
      "metadata": {
        "id": "PevUcINXK3gn"
      },
      "source": [
        "def fit_model_now (model, sentences) :\n",
        "  model.compile(loss='binary_crossentropy',optimizer='adam',metrics=['accuracy'])\n",
        "  model.summary()\n",
        "  history = model.fit(train_seq, train_label, epochs=30, \n",
        "                      validation_data=(test_seq, test_label))\n",
        "  return history\n",
        "\n",
        "def plot_results (history):\n",
        "  plot_graph(history, \"accuracy\")\n",
        "  plot_graph(history, \"loss\")\n",
        "\n",
        "def fit_model_and_show_results (model, sentences):\n",
        "  history = fit_model_now(model, sentences)\n",
        "  plot_results(history)\n",
        "  predict_review(model, sentences)"
      ],
      "execution_count": 40,
      "outputs": []
    },
    {
      "cell_type": "code",
      "metadata": {
        "colab": {
          "base_uri": "https://localhost:8080/",
          "height": 1000
        },
        "id": "uLuFfAv950se",
        "outputId": "b29cfe84-12f8-4507-beb9-021af533c353"
      },
      "source": [
        "model_bidi_lstm = tf.keras.Sequential([\n",
        "    tf.keras.layers.Embedding(1000, 16, input_length=100),\n",
        "    tf.keras.layers.Bidirectional(tf.keras.layers.LSTM(16)), \n",
        "    tf.keras.layers.Dense(6, activation='relu'), \n",
        "    tf.keras.layers.Dense(1, activation='sigmoid')\n",
        "])\n",
        "\n",
        "fit_model_and_show_results(model_bidi_lstm, fake_reviews)\n"
      ],
      "execution_count": 41,
      "outputs": [
        {
          "output_type": "stream",
          "text": [
            "Model: \"sequential_5\"\n",
            "_________________________________________________________________\n",
            "Layer (type)                 Output Shape              Param #   \n",
            "=================================================================\n",
            "embedding_6 (Embedding)      (None, 100, 16)           16000     \n",
            "_________________________________________________________________\n",
            "bidirectional_2 (Bidirection (None, 32)                4224      \n",
            "_________________________________________________________________\n",
            "dense_10 (Dense)             (None, 6)                 198       \n",
            "_________________________________________________________________\n",
            "dense_11 (Dense)             (None, 1)                 7         \n",
            "=================================================================\n",
            "Total params: 20,429\n",
            "Trainable params: 20,429\n",
            "Non-trainable params: 0\n",
            "_________________________________________________________________\n",
            "Epoch 1/30\n",
            "WARNING:tensorflow:Model was constructed with shape (None, 100) for input KerasTensor(type_spec=TensorSpec(shape=(None, 100), dtype=tf.float32, name='embedding_6_input'), name='embedding_6_input', description=\"created by layer 'embedding_6_input'\"), but it was called on an input with incompatible shape (None, 30).\n"
          ],
          "name": "stdout"
        },
        {
          "output_type": "stream",
          "text": [
            "WARNING:tensorflow:Model was constructed with shape (None, 100) for input KerasTensor(type_spec=TensorSpec(shape=(None, 100), dtype=tf.float32, name='embedding_6_input'), name='embedding_6_input', description=\"created by layer 'embedding_6_input'\"), but it was called on an input with incompatible shape (None, 30).\n"
          ],
          "name": "stderr"
        },
        {
          "output_type": "stream",
          "text": [
            "WARNING:tensorflow:Model was constructed with shape (None, 100) for input KerasTensor(type_spec=TensorSpec(shape=(None, 100), dtype=tf.float32, name='embedding_6_input'), name='embedding_6_input', description=\"created by layer 'embedding_6_input'\"), but it was called on an input with incompatible shape (None, 30).\n"
          ],
          "name": "stdout"
        },
        {
          "output_type": "stream",
          "text": [
            "WARNING:tensorflow:Model was constructed with shape (None, 100) for input KerasTensor(type_spec=TensorSpec(shape=(None, 100), dtype=tf.float32, name='embedding_6_input'), name='embedding_6_input', description=\"created by layer 'embedding_6_input'\"), but it was called on an input with incompatible shape (None, 30).\n"
          ],
          "name": "stderr"
        },
        {
          "output_type": "stream",
          "text": [
            "50/50 [==============================] - ETA: 0s - loss: 0.6891 - accuracy: 0.5323WARNING:tensorflow:Model was constructed with shape (None, 100) for input KerasTensor(type_spec=TensorSpec(shape=(None, 100), dtype=tf.float32, name='embedding_6_input'), name='embedding_6_input', description=\"created by layer 'embedding_6_input'\"), but it was called on an input with incompatible shape (None, 30).\n"
          ],
          "name": "stdout"
        },
        {
          "output_type": "stream",
          "text": [
            "WARNING:tensorflow:Model was constructed with shape (None, 100) for input KerasTensor(type_spec=TensorSpec(shape=(None, 100), dtype=tf.float32, name='embedding_6_input'), name='embedding_6_input', description=\"created by layer 'embedding_6_input'\"), but it was called on an input with incompatible shape (None, 30).\n"
          ],
          "name": "stderr"
        },
        {
          "output_type": "stream",
          "text": [
            "50/50 [==============================] - 5s 33ms/step - loss: 0.6891 - accuracy: 0.5323 - val_loss: 0.6968 - val_accuracy: 0.4436\n",
            "Epoch 2/30\n",
            "50/50 [==============================] - 1s 17ms/step - loss: 0.6424 - accuracy: 0.6472 - val_loss: 0.6102 - val_accuracy: 0.7544\n",
            "Epoch 3/30\n",
            "50/50 [==============================] - 1s 17ms/step - loss: 0.4918 - accuracy: 0.8023 - val_loss: 0.5417 - val_accuracy: 0.7444\n",
            "Epoch 4/30\n",
            "50/50 [==============================] - 1s 17ms/step - loss: 0.3394 - accuracy: 0.8638 - val_loss: 0.5742 - val_accuracy: 0.7268\n",
            "Epoch 5/30\n",
            "50/50 [==============================] - 1s 20ms/step - loss: 0.2790 - accuracy: 0.8889 - val_loss: 0.5108 - val_accuracy: 0.7644\n",
            "Epoch 6/30\n",
            "50/50 [==============================] - 1s 18ms/step - loss: 0.2380 - accuracy: 0.9127 - val_loss: 0.5720 - val_accuracy: 0.7619\n",
            "Epoch 7/30\n",
            "50/50 [==============================] - 1s 18ms/step - loss: 0.1993 - accuracy: 0.9322 - val_loss: 0.6191 - val_accuracy: 0.7644\n",
            "Epoch 8/30\n",
            "50/50 [==============================] - 1s 18ms/step - loss: 0.1611 - accuracy: 0.9466 - val_loss: 0.6986 - val_accuracy: 0.7669\n",
            "Epoch 9/30\n",
            "50/50 [==============================] - 1s 17ms/step - loss: 0.1476 - accuracy: 0.9561 - val_loss: 0.8359 - val_accuracy: 0.7694\n",
            "Epoch 10/30\n",
            "50/50 [==============================] - 1s 17ms/step - loss: 0.1260 - accuracy: 0.9598 - val_loss: 0.9109 - val_accuracy: 0.7469\n",
            "Epoch 11/30\n",
            "50/50 [==============================] - 1s 19ms/step - loss: 0.1159 - accuracy: 0.9655 - val_loss: 1.2404 - val_accuracy: 0.7168\n",
            "Epoch 12/30\n",
            "50/50 [==============================] - 1s 18ms/step - loss: 0.1170 - accuracy: 0.9661 - val_loss: 0.9215 - val_accuracy: 0.7469\n",
            "Epoch 13/30\n",
            "50/50 [==============================] - 1s 18ms/step - loss: 0.0941 - accuracy: 0.9749 - val_loss: 0.9961 - val_accuracy: 0.7393\n",
            "Epoch 14/30\n",
            "50/50 [==============================] - 1s 17ms/step - loss: 0.0723 - accuracy: 0.9837 - val_loss: 1.0974 - val_accuracy: 0.7469\n",
            "Epoch 15/30\n",
            "50/50 [==============================] - 1s 18ms/step - loss: 0.0603 - accuracy: 0.9893 - val_loss: 1.2547 - val_accuracy: 0.7268\n",
            "Epoch 16/30\n",
            "50/50 [==============================] - 1s 17ms/step - loss: 0.0637 - accuracy: 0.9856 - val_loss: 1.1949 - val_accuracy: 0.7293\n",
            "Epoch 17/30\n",
            "50/50 [==============================] - 1s 17ms/step - loss: 0.0526 - accuracy: 0.9893 - val_loss: 1.3509 - val_accuracy: 0.7343\n",
            "Epoch 18/30\n",
            "50/50 [==============================] - 1s 17ms/step - loss: 0.0443 - accuracy: 0.9918 - val_loss: 1.3503 - val_accuracy: 0.7343\n",
            "Epoch 19/30\n",
            "50/50 [==============================] - 1s 18ms/step - loss: 0.0395 - accuracy: 0.9931 - val_loss: 1.3439 - val_accuracy: 0.7368\n",
            "Epoch 20/30\n",
            "50/50 [==============================] - 1s 17ms/step - loss: 0.0353 - accuracy: 0.9931 - val_loss: 1.4042 - val_accuracy: 0.7268\n",
            "Epoch 21/30\n",
            "50/50 [==============================] - 1s 17ms/step - loss: 0.0479 - accuracy: 0.9849 - val_loss: 1.2735 - val_accuracy: 0.7293\n",
            "Epoch 22/30\n",
            "50/50 [==============================] - 1s 18ms/step - loss: 0.0680 - accuracy: 0.9799 - val_loss: 1.2934 - val_accuracy: 0.7393\n",
            "Epoch 23/30\n",
            "50/50 [==============================] - 1s 17ms/step - loss: 0.0478 - accuracy: 0.9881 - val_loss: 1.4988 - val_accuracy: 0.7419\n",
            "Epoch 24/30\n",
            "50/50 [==============================] - 1s 18ms/step - loss: 0.0440 - accuracy: 0.9906 - val_loss: 1.3040 - val_accuracy: 0.7419\n",
            "Epoch 25/30\n",
            "50/50 [==============================] - 1s 17ms/step - loss: 0.0304 - accuracy: 0.9937 - val_loss: 1.3399 - val_accuracy: 0.7469\n",
            "Epoch 26/30\n",
            "50/50 [==============================] - 1s 17ms/step - loss: 0.0244 - accuracy: 0.9962 - val_loss: 1.4420 - val_accuracy: 0.7419\n",
            "Epoch 27/30\n",
            "50/50 [==============================] - 1s 18ms/step - loss: 0.0227 - accuracy: 0.9969 - val_loss: 1.4343 - val_accuracy: 0.7419\n",
            "Epoch 28/30\n",
            "50/50 [==============================] - 1s 17ms/step - loss: 0.0214 - accuracy: 0.9969 - val_loss: 1.4655 - val_accuracy: 0.7444\n",
            "Epoch 29/30\n",
            "50/50 [==============================] - 1s 17ms/step - loss: 0.0208 - accuracy: 0.9969 - val_loss: 1.5005 - val_accuracy: 0.7494\n",
            "Epoch 30/30\n",
            "50/50 [==============================] - 1s 18ms/step - loss: 0.0202 - accuracy: 0.9969 - val_loss: 1.5490 - val_accuracy: 0.7469\n"
          ],
          "name": "stdout"
        },
        {
          "output_type": "display_data",
          "data": {
            "image/png": "[encoded data removed]",
            "text/plain": [
              "<Figure size 432x288 with 1 Axes>"
            ]
          },
          "metadata": {
            "tags": [],
            "needs_background": "light"
          }
        },
        {
          "output_type": "display_data",
          "data": {
            "image/png": "[encoded data removed]",
            "text/plain": [
              "<Figure size 432x288 with 1 Axes>"
            ]
          },
          "metadata": {
            "tags": [],
            "needs_background": "light"
          }
        },
        {
          "output_type": "stream",
          "text": [
            "[  4 281  16  25   0   0   0   0   0   0   0   0   0   0   0   0   0   0\n",
            "   0   0   0   0   0   0   0   0   0   0   0   0   0   0   0   0   0   0\n",
            "   0   0   0   0   0   0   0   0   0   0   0   0   0   0   0   0   0   0\n",
            "   0   0   0   0   0   0   0   0   0   0   0   0   0   0   0   0   0   0\n",
            "   0   0   0   0   0   0   0   0   0   0   0   0   0   0   0   0   0   0\n",
            "   0   0   0   0   0   0   0   0   0   0]\n",
            "I love this phone\n",
            "[0.9989773]\n",
            "[812 227 864 100 775   9 525 843   0   0   0   0   0   0   0   0   0   0\n",
            "   0   0   0   0   0   0   0   0   0   0   0   0   0   0   0   0   0   0\n",
            "   0   0   0   0   0   0   0   0   0   0   0   0   0   0   0   0   0   0\n",
            "   0   0   0   0   0   0   0   0   0   0   0   0   0   0   0   0   0   0\n",
            "   0   0   0   0   0   0   0   0   0   0   0   0   0   0   0   0   0   0\n",
            "   0   0   0   0   0   0   0   0   0   0]\n",
            "Everything was cold\n",
            "[0.01264283]\n",
            "[812 227 864 100 775   9 109   8 333 731  24  61   4 171  59  77   0   0\n",
            "   0   0   0   0   0   0   0   0   0   0   0   0   0   0   0   0   0   0\n",
            "   0   0   0   0   0   0   0   0   0   0   0   0   0   0   0   0   0   0\n",
            "   0   0   0   0   0   0   0   0   0   0   0   0   0   0   0   0   0   0\n",
            "   0   0   0   0   0   0   0   0   0   0   0   0   0   0   0   0   0   0\n",
            "   0   0   0   0   0   0   0   0   0   0]\n",
            "Everything was hot exactly as I wanted\n",
            "[0.5450017]\n",
            "[812 227 864 100 775   9 157 359 853   0   0   0   0   0   0   0   0   0\n",
            "   0   0   0   0   0   0   0   0   0   0   0   0   0   0   0   0   0   0\n",
            "   0   0   0   0   0   0   0   0   0   0   0   0   0   0   0   0   0   0\n",
            "   0   0   0   0   0   0   0   0   0   0   0   0   0   0   0   0   0   0\n",
            "   0   0   0   0   0   0   0   0   0   0   0   0   0   0   0   0   0   0\n",
            "   0   0   0   0   0   0   0   0   0   0]\n",
            "Everything was green\n",
            "[0.06614423]\n",
            "[  1 109 228 540 237 635 241 423 340  89 298   0   0   0   0   0   0   0\n",
            "   0   0   0   0   0   0   0   0   0   0   0   0   0   0   0   0   0   0\n",
            "   0   0   0   0   0   0   0   0   0   0   0   0   0   0   0   0   0   0\n",
            "   0   0   0   0   0   0   0   0   0   0   0   0   0   0   0   0   0   0\n",
            "   0   0   0   0   0   0   0   0   0   0   0   0   0   0   0   0   0   0\n",
            "   0   0   0   0   0   0   0   0   0   0]\n",
            "the host seated us immediately\n",
            "[0.99990094]\n",
            "[154 242  47 635 341  12 569 547 147 319 775 125  85   0   0   0   0   0\n",
            "   0   0   0   0   0   0   0   0   0   0   0   0   0   0   0   0   0   0\n",
            "   0   0   0   0   0   0   0   0   0   0   0   0   0   0   0   0   0   0\n",
            "   0   0   0   0   0   0   0   0   0   0   0   0   0   0   0   0   0   0\n",
            "   0   0   0   0   0   0   0   0   0   0   0   0   0   0   0   0   0   0\n",
            "   0   0   0   0   0   0   0   0   0   0]\n",
            "they gave us free chocolate cake\n",
            "[0.99974036]\n",
            "[158 190 853 782   8 607 775 210 232 146 775 470  67 305 101  15   1 328\n",
            " 296  26  19   1 661 641 195   0   0   0   0   0   0   0   0   0   0   0\n",
            "   0   0   0   0   0   0   0   0   0   0   0   0   0   0   0   0   0   0\n",
            "   0   0   0   0   0   0   0   0   0   0   0   0   0   0   0   0   0   0\n",
            "   0   0   0   0   0   0   0   0   0   0   0   0   0   0   0   0   0   0\n",
            "   0   0   0   0   0   0   0   0   0   0]\n",
            "we couldn't hear each other talk because of the shouting in the kitchen\n",
            "[0.00496408]\n"
          ],
          "name": "stdout"
        }
      ]
    }
  ]
}