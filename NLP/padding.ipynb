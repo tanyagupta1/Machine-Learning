{
  "nbformat": 4,
  "nbformat_minor": 0,
  "metadata": {
    "colab": {
      "name": "padding.ipynb",
      "provenance": [],
      "authorship_tag": "ABX9TyOLpGoSBdFtF0xudZnuxi4x",
      "include_colab_link": true
    },
    "kernelspec": {
      "name": "python3",
      "display_name": "Python 3"
    },
    "language_info": {
      "name": "python"
    }
  },
  "cells": [
    {
      "cell_type": "markdown",
      "metadata": {
        "id": "view-in-github",
        "colab_type": "text"
      },
      "source": [
        "<a href=\"https://colab.research.google.com/github/tanyagupta1/Machine-Learning/blob/main/NLP/padding.ipynb\" target=\"_parent\"><img src=\"https://colab.research.google.com/assets/colab-badge.svg\" alt=\"Open In Colab\"/></a>"
      ]
    },
    {
      "cell_type": "code",
      "metadata": {
        "id": "XpQhRwh9HMnd"
      },
      "source": [
        "from tensorflow.keras.preprocessing.text import Tokenizer\n",
        "from tensorflow.keras.preprocessing.sequence import pad_sequences"
      ],
      "execution_count": 1,
      "outputs": []
    },
    {
      "cell_type": "code",
      "metadata": {
        "id": "PwM7IP2lTr7T",
        "colab": {
          "base_uri": "https://localhost:8080/"
        },
        "outputId": "a81660da-a9df-4bbb-f1d7-80d09f35fec1"
      },
      "source": [
        "sentences = [\n",
        "    'My favorite food is ice cream',\n",
        "    'do you like ice cream too?',\n",
        "    'My dog likes ice cream!',\n",
        "    \"your favorite flavor of icecream is chocolate\",\n",
        "    \"chocolate isn't good for dogs\",\n",
        "    \"your dog, your cat, and your parrot prefer broccoli\"\n",
        "]\n",
        "print(sentences)"
      ],
      "execution_count": 10,
      "outputs": [
        {
          "output_type": "stream",
          "text": [
            "['My favorite food is ice cream', 'do you like ice cream too?', 'My dog likes ice cream!', 'your favorite flavor of icecream is chocolate', \"chocolate isn't good for dogs\", 'your dog, your cat, and your parrot prefer broccoli']\n"
          ],
          "name": "stdout"
        }
      ]
    },
    {
      "cell_type": "code",
      "metadata": {
        "colab": {
          "base_uri": "https://localhost:8080/"
        },
        "id": "Az5UPtawJOPi",
        "outputId": "e4b507ac-2145-4c9b-f7ee-6ecd13750439"
      },
      "source": [
        "tokenizer=Tokenizer(num_words=100,oov_token='<OOV>')\n",
        "tokenizer.fit_on_texts(sentences)\n",
        "tokenizer.word_index"
      ],
      "execution_count": 11,
      "outputs": [
        {
          "output_type": "execute_result",
          "data": {
            "text/plain": [
              "{'<OOV>': 1,\n",
              " 'and': 24,\n",
              " 'broccoli': 27,\n",
              " 'cat': 23,\n",
              " 'chocolate': 9,\n",
              " 'cream': 4,\n",
              " 'do': 11,\n",
              " 'dog': 8,\n",
              " 'dogs': 22,\n",
              " 'favorite': 6,\n",
              " 'flavor': 16,\n",
              " 'food': 10,\n",
              " 'for': 21,\n",
              " 'good': 20,\n",
              " 'ice': 3,\n",
              " 'icecream': 18,\n",
              " 'is': 7,\n",
              " \"isn't\": 19,\n",
              " 'like': 13,\n",
              " 'likes': 15,\n",
              " 'my': 5,\n",
              " 'of': 17,\n",
              " 'parrot': 25,\n",
              " 'prefer': 26,\n",
              " 'too': 14,\n",
              " 'you': 12,\n",
              " 'your': 2}"
            ]
          },
          "metadata": {
            "tags": []
          },
          "execution_count": 11
        }
      ]
    },
    {
      "cell_type": "code",
      "metadata": {
        "colab": {
          "base_uri": "https://localhost:8080/"
        },
        "id": "39bwoftAJ5s_",
        "outputId": "3e92499d-5b08-4f1c-e047-229c510ffe8f"
      },
      "source": [
        "sequences=tokenizer.texts_to_sequences(sentences)\n",
        "for i in sequences:\n",
        "  print(i)"
      ],
      "execution_count": 13,
      "outputs": [
        {
          "output_type": "stream",
          "text": [
            "[5, 6, 10, 7, 3, 4]\n",
            "[11, 12, 13, 3, 4, 14]\n",
            "[5, 8, 15, 3, 4]\n",
            "[2, 6, 16, 17, 18, 7, 9]\n",
            "[9, 19, 20, 21, 22]\n",
            "[2, 8, 2, 23, 24, 2, 25, 26, 27]\n"
          ],
          "name": "stdout"
        }
      ]
    },
    {
      "cell_type": "code",
      "metadata": {
        "colab": {
          "base_uri": "https://localhost:8080/"
        },
        "id": "vgO77w1JKntQ",
        "outputId": "7ae41d12-207a-43d1-8139-065cac80e397"
      },
      "source": [
        "padded=pad_sequences(sequences)\n",
        "for i in padded:\n",
        "  print(i)"
      ],
      "execution_count": 15,
      "outputs": [
        {
          "output_type": "stream",
          "text": [
            "[ 0  0  0  5  6 10  7  3  4]\n",
            "[ 0  0  0 11 12 13  3  4 14]\n",
            "[ 0  0  0  0  5  8 15  3  4]\n",
            "[ 0  0  2  6 16 17 18  7  9]\n",
            "[ 0  0  0  0  9 19 20 21 22]\n",
            "[ 2  8  2 23 24  2 25 26 27]\n"
          ],
          "name": "stdout"
        }
      ]
    },
    {
      "cell_type": "code",
      "metadata": {
        "colab": {
          "base_uri": "https://localhost:8080/"
        },
        "id": "0SNYDfheKxTz",
        "outputId": "8a514654-1eae-43f8-8ac5-b300fc0beb76"
      },
      "source": [
        "padded=pad_sequences(sequences,padding=\"post\")\n",
        "for i in padded:\n",
        "  print(i)"
      ],
      "execution_count": 16,
      "outputs": [
        {
          "output_type": "stream",
          "text": [
            "[ 5  6 10  7  3  4  0  0  0]\n",
            "[11 12 13  3  4 14  0  0  0]\n",
            "[ 5  8 15  3  4  0  0  0  0]\n",
            "[ 2  6 16 17 18  7  9  0  0]\n",
            "[ 9 19 20 21 22  0  0  0  0]\n",
            "[ 2  8  2 23 24  2 25 26 27]\n"
          ],
          "name": "stdout"
        }
      ]
    },
    {
      "cell_type": "code",
      "metadata": {
        "colab": {
          "base_uri": "https://localhost:8080/"
        },
        "id": "TZt4tYHeK4fm",
        "outputId": "a77dfcc0-340b-4c0f-9ce1-957e6ebfe1da"
      },
      "source": [
        "padded=pad_sequences(sequences,maxlen=7) #pre\n",
        "for i in padded:\n",
        "  print(i)"
      ],
      "execution_count": 20,
      "outputs": [
        {
          "output_type": "stream",
          "text": [
            "[ 0  5  6 10  7  3  4]\n",
            "[ 0 11 12 13  3  4 14]\n",
            "[ 0  0  5  8 15  3  4]\n",
            "[ 2  6 16 17 18  7  9]\n",
            "[ 0  0  9 19 20 21 22]\n",
            "[ 2 23 24  2 25 26 27]\n"
          ],
          "name": "stdout"
        }
      ]
    },
    {
      "cell_type": "code",
      "metadata": {
        "colab": {
          "base_uri": "https://localhost:8080/"
        },
        "id": "GOegoTaKLDeZ",
        "outputId": "cb6b67e5-35d6-4183-a159-71306e3363af"
      },
      "source": [
        "padded=pad_sequences(sequences,maxlen=7,padding='post')\n",
        "for i in padded:\n",
        "  print(i)"
      ],
      "execution_count": 22,
      "outputs": [
        {
          "output_type": "stream",
          "text": [
            "[ 5  6 10  7  3  4  0]\n",
            "[11 12 13  3  4 14  0]\n",
            "[ 5  8 15  3  4  0  0]\n",
            "[ 2  6 16 17 18  7  9]\n",
            "[ 9 19 20 21 22  0  0]\n",
            "[ 2 23 24  2 25 26 27]\n"
          ],
          "name": "stdout"
        }
      ]
    }
  ]
}