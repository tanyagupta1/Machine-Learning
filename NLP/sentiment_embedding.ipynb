{
  "nbformat": 4,
  "nbformat_minor": 0,
  "metadata": {
    "colab": {
      "name": "sentiment_embedding.ipynb",
      "provenance": [],
      "authorship_tag": "ABX9TyPggv6GPFwLGXZbA0KXZfDN",
      "include_colab_link": true
    },
    "kernelspec": {
      "name": "python3",
      "display_name": "Python 3"
    },
    "language_info": {
      "name": "python"
    },
    "accelerator": "GPU"
  },
  "cells": [
    {
      "cell_type": "markdown",
      "metadata": {
        "id": "view-in-github",
        "colab_type": "text"
      },
      "source": [
        "<a href=\"https://colab.research.google.com/github/tanyagupta1/Machine-Learning/blob/main/NLP/sentiment_embedding.ipynb\" target=\"_parent\"><img src=\"https://colab.research.google.com/assets/colab-badge.svg\" alt=\"Open In Colab\"/></a>"
      ]
    },
    {
      "cell_type": "code",
      "metadata": {
        "id": "XIG52aKPdpux"
      },
      "source": [
        "import tensorflow as tf\n",
        "\n",
        "from tensorflow.keras.preprocessing.text import Tokenizer\n",
        "from tensorflow.keras.preprocessing.sequence import pad_sequences\n",
        "import numpy as np\n",
        "import pandas as pd"
      ],
      "execution_count": 1,
      "outputs": []
    },
    {
      "cell_type": "code",
      "metadata": {
        "id": "5c4ZH3xHWRYa"
      },
      "source": [
        "!wget --no-check-certificate \\\n",
        "    -O /tmp/sentiment.csv https://drive.google.com/uc?id=13ySLC_ue6Umt9RJYSeM2t-V0kCv-4C-P\n"
      ],
      "execution_count": null,
      "outputs": []
    },
    {
      "cell_type": "code",
      "metadata": {
        "id": "bj2-ELlcWtm8"
      },
      "source": [
        "dataset = pd.read_csv('/tmp/sentiment.csv')\n",
        "sentences = dataset['text'].tolist()\n",
        "labels = dataset['sentiment'].tolist()"
      ],
      "execution_count": 4,
      "outputs": []
    },
    {
      "cell_type": "code",
      "metadata": {
        "id": "6Zvp9NScfMnw"
      },
      "source": [
        "training_size = int(len(sentences) * 0.8)\n",
        "\n",
        "training_sentences = sentences[0:training_size]\n",
        "testing_sentences = sentences[training_size:]\n",
        "training_labels = labels[0:training_size]\n",
        "testing_labels = labels[training_size:]\n",
        "\n",
        "training_labels_final = np.array(training_labels)\n",
        "testing_labels_final = np.array(testing_labels)"
      ],
      "execution_count": 5,
      "outputs": []
    },
    {
      "cell_type": "code",
      "metadata": {
        "id": "f0CV4sz2e5tN"
      },
      "source": [
        "tokenizer=Tokenizer(num_words=1000,oov_token=\"<OOV>\")\n",
        "tokenizer.fit_on_texts(training_sentences)\n",
        "sequences=tokenizer.texts_to_sequences(training_sentences)"
      ],
      "execution_count": 7,
      "outputs": []
    },
    {
      "cell_type": "code",
      "metadata": {
        "id": "Ay1KR1_1pFV0"
      },
      "source": [
        "padded=pad_sequences(sequences,maxlen=100,padding='post',truncating='post')\n",
        "testing_seq=tokenizer.texts_to_sequences(testing_sentences)\n",
        "padded_test=pad_sequences(testing_seq,maxlen=100,padding='post',truncating='post')"
      ],
      "execution_count": 9,
      "outputs": []
    },
    {
      "cell_type": "code",
      "metadata": {
        "colab": {
          "base_uri": "https://localhost:8080/"
        },
        "id": "meXr04r-q0q9",
        "outputId": "6dece9ec-be17-4f01-e3ba-ded0341de00e"
      },
      "source": [
        "tokenizer.word_index\n",
        "reverse_word_index=dict([(value,key) for (key,value) in tokenizer.word_index.items()])\n",
        "def decode(text):\n",
        "  return ' '.join([reverse_word_index.get(i,'?') for i in text])\n",
        "print(decode(padded[1]))\n",
        "print(training_sentences[1])"
      ],
      "execution_count": 21,
      "outputs": [
        {
          "output_type": "stream",
          "text": [
            "good case excellent value ? ? ? ? ? ? ? ? ? ? ? ? ? ? ? ? ? ? ? ? ? ? ? ? ? ? ? ? ? ? ? ? ? ? ? ? ? ? ? ? ? ? ? ? ? ? ? ? ? ? ? ? ? ? ? ? ? ? ? ? ? ? ? ? ? ? ? ? ? ? ? ? ? ? ? ? ? ? ? ? ? ? ? ? ? ? ? ? ? ? ? ? ? ? ? ?\n",
            "Good case Excellent value.\n"
          ],
          "name": "stdout"
        }
      ]
    },
    {
      "cell_type": "code",
      "metadata": {
        "id": "9D2M4UbPuPSx"
      },
      "source": [
        "model=tf.keras.Sequential([\n",
        "                           tf.keras.layers.Embedding(1000,16,input_length=100),\n",
        "                           tf.keras.layers.Flatten(),\n",
        "                           tf.keras.layers.Dense(6,activation='relu'),\n",
        "                           tf.keras.layers.Dense(1,activation='sigmoid')\n",
        "])\n",
        "model.compile(loss='binary_crossentropy',optimizer='adam',metrics=['accuracy'])"
      ],
      "execution_count": 24,
      "outputs": []
    },
    {
      "cell_type": "code",
      "metadata": {
        "colab": {
          "base_uri": "https://localhost:8080/"
        },
        "id": "5TrhKWRByIFB",
        "outputId": "f4d04e33-1b29-4435-a850-4030fbaefd7e"
      },
      "source": [
        "model.fit(padded,training_labels_final,epochs=10,validation_data=(padded_test,testing_labels_final))"
      ],
      "execution_count": 25,
      "outputs": [
        {
          "output_type": "stream",
          "text": [
            "Epoch 1/10\n",
            "50/50 [==============================] - 4s 9ms/step - loss: 0.6931 - accuracy: 0.5173 - val_loss: 0.6936 - val_accuracy: 0.4311\n",
            "Epoch 2/10\n",
            "50/50 [==============================] - 0s 5ms/step - loss: 0.6919 - accuracy: 0.5449 - val_loss: 0.6943 - val_accuracy: 0.4311\n",
            "Epoch 3/10\n",
            "50/50 [==============================] - 0s 5ms/step - loss: 0.6880 - accuracy: 0.6861 - val_loss: 0.6892 - val_accuracy: 0.6516\n",
            "Epoch 4/10\n",
            "50/50 [==============================] - 0s 6ms/step - loss: 0.6748 - accuracy: 0.7671 - val_loss: 0.6723 - val_accuracy: 0.6667\n",
            "Epoch 5/10\n",
            "50/50 [==============================] - 0s 6ms/step - loss: 0.6439 - accuracy: 0.7382 - val_loss: 0.6425 - val_accuracy: 0.6867\n",
            "Epoch 6/10\n",
            "50/50 [==============================] - 0s 6ms/step - loss: 0.5806 - accuracy: 0.8035 - val_loss: 0.5930 - val_accuracy: 0.7393\n",
            "Epoch 7/10\n",
            "50/50 [==============================] - 0s 5ms/step - loss: 0.4321 - accuracy: 0.9058 - val_loss: 0.5437 - val_accuracy: 0.7444\n",
            "Epoch 8/10\n",
            "50/50 [==============================] - 0s 6ms/step - loss: 0.3085 - accuracy: 0.9272 - val_loss: 0.4909 - val_accuracy: 0.7544\n",
            "Epoch 9/10\n",
            "50/50 [==============================] - 0s 5ms/step - loss: 0.2275 - accuracy: 0.9523 - val_loss: 0.4709 - val_accuracy: 0.7719\n",
            "Epoch 10/10\n",
            "50/50 [==============================] - 0s 6ms/step - loss: 0.1768 - accuracy: 0.9648 - val_loss: 0.4808 - val_accuracy: 0.7544\n"
          ],
          "name": "stdout"
        },
        {
          "output_type": "execute_result",
          "data": {
            "text/plain": [
              "<tensorflow.python.keras.callbacks.History at 0x7f3ee06eeed0>"
            ]
          },
          "metadata": {
            "tags": []
          },
          "execution_count": 25
        }
      ]
    },
    {
      "cell_type": "code",
      "metadata": {
        "colab": {
          "base_uri": "https://localhost:8080/"
        },
        "id": "gQIejVz4ypkt",
        "outputId": "df944aa6-e986-4bd7-a1b0-8197623f8884"
      },
      "source": [
        "fake_reviews = ['I love this phone', 'I hate spaghetti', \n",
        "                'Everything was cold',\n",
        "                'Everything was hot exactly as I wanted', \n",
        "                'Everything was green', \n",
        "                'the host seated us immediately',\n",
        "                'they gave us free chocolate cake', \n",
        "                'not sure about the wilted flowers on the table',\n",
        "                'only works when I stand on tippy toes', \n",
        "                'does not work when I stand on my head']\n",
        "sample_sequence=tokenizer.texts_to_sequences(fake_reviews)\n",
        "padded_fake=pad_sequences(sample_sequence,padding='post',maxlen=100)\n",
        "classes=model.predict(padded_fake)\n",
        "print(classes)"
      ],
      "execution_count": 26,
      "outputs": [
        {
          "output_type": "stream",
          "text": [
            "[[0.9638666 ]\n",
            " [0.10184738]\n",
            " [0.45241785]\n",
            " [0.60820466]\n",
            " [0.5135994 ]\n",
            " [0.74460083]\n",
            " [0.7685561 ]\n",
            " [0.05052236]\n",
            " [0.8866606 ]\n",
            " [0.00199402]]\n"
          ],
          "name": "stdout"
        }
      ]
    }
  ]
}