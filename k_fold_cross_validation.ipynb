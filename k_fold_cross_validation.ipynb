{
  "nbformat": 4,
  "nbformat_minor": 0,
  "metadata": {
    "colab": {
      "name": "k_fold_cross_validation.ipynb",
      "provenance": [],
      "authorship_tag": "ABX9TyPSXFXYGcl9/V29Zbp2npYx",
      "include_colab_link": true
    },
    "kernelspec": {
      "name": "python3",
      "display_name": "Python 3"
    },
    "language_info": {
      "name": "python"
    }
  },
  "cells": [
    {
      "cell_type": "markdown",
      "metadata": {
        "id": "view-in-github",
        "colab_type": "text"
      },
      "source": [
        "<a href=\"https://colab.research.google.com/github/tanyagupta1/Machine-Learning/blob/main/k_fold_cross_validation.ipynb\" target=\"_parent\"><img src=\"https://colab.research.google.com/assets/colab-badge.svg\" alt=\"Open In Colab\"/></a>"
      ]
    },
    {
      "cell_type": "code",
      "metadata": {
        "id": "Jd0eMKGYHC4E"
      },
      "source": [
        "import numpy as np\n",
        "from sklearn.linear_model import LogisticRegression\n",
        "from sklearn.svm import SVC\n",
        "from sklearn.ensemble import RandomForestClassifier\n",
        "from sklearn.model_selection import train_test_split\n",
        "from sklearn.datasets import load_digits"
      ],
      "execution_count": 1,
      "outputs": []
    },
    {
      "cell_type": "code",
      "metadata": {
        "id": "Y5Xur5LlIAFe"
      },
      "source": [
        "digits=load_digits()\n",
        "X_train,X_test,Y_train,Y_test=train_test_split(digits.data,digits.target,test_size=0.3)"
      ],
      "execution_count": 6,
      "outputs": []
    },
    {
      "cell_type": "code",
      "metadata": {
        "id": "qV5VSUsdIXxy"
      },
      "source": [
        "log_reg_model=LogisticRegression()\n",
        "log_reg_model.fit(X_train,Y_train)\n",
        "log_reg_model.score(X_test,Y_test)"
      ],
      "execution_count": null,
      "outputs": []
    },
    {
      "cell_type": "code",
      "metadata": {
        "colab": {
          "base_uri": "https://localhost:8080/"
        },
        "id": "cW7DwyIVIuI8",
        "outputId": "e7666092-9b0f-4448-cd56-18903861320b"
      },
      "source": [
        "svm_model=SVC()\n",
        "svm_model.fit(X_train,Y_train)\n",
        "svm_model.score(X_test,Y_test)"
      ],
      "execution_count": 8,
      "outputs": [
        {
          "output_type": "execute_result",
          "data": {
            "text/plain": [
              "0.987037037037037"
            ]
          },
          "metadata": {
            "tags": []
          },
          "execution_count": 8
        }
      ]
    },
    {
      "cell_type": "code",
      "metadata": {
        "colab": {
          "base_uri": "https://localhost:8080/"
        },
        "id": "OmFyCU2CJAsz",
        "outputId": "b0663873-5731-4189-bfc7-8982ab5223da"
      },
      "source": [
        "forest_model=RandomForestClassifier()\n",
        "forest_model.fit(X_train,Y_train)\n",
        "forest_model.score(X_test,Y_test)"
      ],
      "execution_count": 9,
      "outputs": [
        {
          "output_type": "execute_result",
          "data": {
            "text/plain": [
              "0.9833333333333333"
            ]
          },
          "metadata": {
            "tags": []
          },
          "execution_count": 9
        }
      ]
    },
    {
      "cell_type": "code",
      "metadata": {
        "id": "4TsOvSZBOcJp"
      },
      "source": [
        "from sklearn.model_selection import KFold\n",
        "kf=KFold(n_splits=3)"
      ],
      "execution_count": 10,
      "outputs": []
    },
    {
      "cell_type": "code",
      "metadata": {
        "colab": {
          "base_uri": "https://localhost:8080/"
        },
        "id": "NMJmzcFfOvBq",
        "outputId": "0cc262a9-18e7-472b-e1bf-097dedc76b5c"
      },
      "source": [
        "for a,b in kf.split([1,2,3,4,5,6,7,8,9]):\n",
        "  print(a)\n",
        "  print(b)\n",
        "  print()"
      ],
      "execution_count": 14,
      "outputs": [
        {
          "output_type": "stream",
          "text": [
            "[3 4 5 6 7 8]\n",
            "[0 1 2]\n",
            "\n",
            "[0 1 2 6 7 8]\n",
            "[3 4 5]\n",
            "\n",
            "[0 1 2 3 4 5]\n",
            "[6 7 8]\n",
            "\n"
          ],
          "name": "stdout"
        }
      ]
    },
    {
      "cell_type": "code",
      "metadata": {
        "id": "_50HAHV3OvIl"
      },
      "source": [
        "def get_score(model,X_train,X_test,Y_train,Y_test):\n",
        "  model.fit(X_train,Y_train)\n",
        "  return model.score(X_test,Y_test)"
      ],
      "execution_count": 15,
      "outputs": []
    },
    {
      "cell_type": "code",
      "metadata": {
        "colab": {
          "base_uri": "https://localhost:8080/"
        },
        "id": "J27MYM5NP2VB",
        "outputId": "b153a829-26d3-4e5f-b866-6647a308971b"
      },
      "source": [
        "get_score(SVC(),X_train,X_test,Y_train,Y_test)"
      ],
      "execution_count": 16,
      "outputs": [
        {
          "output_type": "execute_result",
          "data": {
            "text/plain": [
              "0.987037037037037"
            ]
          },
          "metadata": {
            "tags": []
          },
          "execution_count": 16
        }
      ]
    },
    {
      "cell_type": "code",
      "metadata": {
        "id": "PfPVed0vShjh"
      },
      "source": [
        "scores_l=[]\n",
        "scores_svm=[]\n",
        "scores_rf=[]\n",
        "for train_index,test_index in kf.split(digits.data):\n",
        "  X_train,X_test,Y_train,Y_test=digits.data[train_index],digits.data[test_index],digits.target[train_index],digits.target[test_index]\n",
        "  scores_l.append(get_score(LogisticRegression(),X_train,X_test,Y_train,Y_test))\n",
        "  scores_svm.append(get_score(SVC(),X_train,X_test,Y_train,Y_test))\n",
        "  scores_rf.append(get_score(RandomForestClassifier(),X_train,X_test,Y_train,Y_test))\n"
      ],
      "execution_count": null,
      "outputs": []
    },
    {
      "cell_type": "code",
      "metadata": {
        "colab": {
          "base_uri": "https://localhost:8080/"
        },
        "id": "xXIli_Q_Wy2S",
        "outputId": "9affb55f-3678-47fc-a26f-6dc36a4b8a2f"
      },
      "source": [
        "scores_l\n",
        "scores_svm\n",
        "scores_rf"
      ],
      "execution_count": 20,
      "outputs": [
        {
          "output_type": "execute_result",
          "data": {
            "text/plain": [
              "[0.9298831385642737, 0.9616026711185309, 0.9315525876460768]"
            ]
          },
          "metadata": {
            "tags": []
          },
          "execution_count": 20
        }
      ]
    },
    {
      "cell_type": "code",
      "metadata": {
        "id": "xCBOtouTXGkG"
      },
      "source": [
        "from sklearn.model_selection import cross_val_score\n",
        "cross_val_score(LogisticRegression(),digits.data,digits.target)"
      ],
      "execution_count": null,
      "outputs": []
    }
  ]
}