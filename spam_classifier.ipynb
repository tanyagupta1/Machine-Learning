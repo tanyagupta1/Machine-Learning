{
 "cells": [
  {
   "cell_type": "markdown",
   "id": "female-string",
   "metadata": {},
   "source": [
    "importing libraries"
   ]
  },
  {
   "cell_type": "code",
   "execution_count": 2,
   "id": "variable-place",
   "metadata": {},
   "outputs": [],
   "source": [
    "import pandas as pd\n",
    "import re\n",
    "import nltk\n",
    "from nltk.corpus import stopwords\n",
    "from nltk.stem import PorterStemmer\n",
    "from sklearn.model_selection import train_test_split\n",
    "from sklearn.naive_bayes import MultinomialNB\n",
    "from sklearn.metrics import accuracy_score\n",
    "from sklearn.metrics import confusion_matrix\n",
    "ps=PorterStemmer()"
   ]
  },
  {
   "cell_type": "markdown",
   "id": "expected-theorem",
   "metadata": {},
   "source": [
    "Data cleaning and data stemming"
   ]
  },
  {
   "cell_type": "code",
   "execution_count": 3,
   "id": "approximate-sydney",
   "metadata": {},
   "outputs": [],
   "source": [
    "messages=pd.read_csv('SMSSpamCollection',sep='\\t',names=['label','message'])\n",
    "#messages.describe()\n",
    "corpus=[]\n",
    "for i in range(len(messages)):\n",
    "    review=re.sub('[^a-zA-Z]',' ',messages['message'][i])\n",
    "    review=review.lower()\n",
    "    review=review.split()\n",
    "    review=[ps.stem(word) for word in review if word not in stopwords.words('english')]\n",
    "    review=' '.join(review)\n",
    "    corpus.append(review)\n"
   ]
  },
  {
   "cell_type": "markdown",
   "id": "solid-booking",
   "metadata": {},
   "source": [
    "training and testing data"
   ]
  },
  {
   "cell_type": "code",
   "execution_count": 5,
   "id": "completed-harbor",
   "metadata": {
    "scrolled": false
   },
   "outputs": [
    {
     "name": "stdout",
     "output_type": "stream",
     "text": [
      "98.83408071748879\n",
      "[[951   4]\n",
      " [  9 151]]\n"
     ]
    }
   ],
   "source": [
    "from sklearn.feature_extraction.text import CountVectorizer\n",
    "cv=CountVectorizer()\n",
    "\n",
    "Y=messages['label'].values\n",
    "X_train,X_test,Y_train,Y_test=train_test_split(corpus,Y,test_size=0.2,random_state=0)\n",
    "X_train = cv.fit_transform(X_train)\n",
    "spam_detect_model=MultinomialNB().fit(X_train,Y_train)\n",
    "X_test = cv.transform(X_test)\n",
    "Y_pred=spam_detect_model.predict(X_test)\n",
    "accuracy=accuracy_score(Y_test,Y_pred)\n",
    "conf=confusion_matrix(Y_test,Y_pred)\n",
    "print(accuracy*100)\n",
    "print(conf)"
   ]
  },
  {
   "cell_type": "code",
   "execution_count": null,
   "id": "capital-protein",
   "metadata": {},
   "outputs": [],
   "source": [
    "\n",
    "\n"
   ]
  },
  {
   "cell_type": "code",
   "execution_count": null,
   "id": "secret-wedding",
   "metadata": {},
   "outputs": [],
   "source": []
  }
 ],
 "metadata": {
  "kernelspec": {
   "display_name": "Python 3",
   "language": "python",
   "name": "python3"
  },
  "language_info": {
   "codemirror_mode": {
    "name": "ipython",
    "version": 3
   },
   "file_extension": ".py",
   "mimetype": "text/x-python",
   "name": "python",
   "nbconvert_exporter": "python",
   "pygments_lexer": "ipython3",
   "version": "3.8.5"
  }
 },
 "nbformat": 4,
 "nbformat_minor": 5
}
